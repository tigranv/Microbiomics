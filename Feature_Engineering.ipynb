{
 "cells": [
  {
   "cell_type": "code",
   "execution_count": 21,
   "metadata": {},
   "outputs": [],
   "source": [
    "import Bio\n",
    "from Bio import SeqIO\n",
    "import numpy as np\n",
    "from sklearn.metrics import accuracy_score, confusion_matrix\n",
    "import matplotlib.pyplot as plt\n",
    "import itertools\n",
    "import pandas as pd \n",
    "from sklearn import svm\n",
    "from sklearn.model_selection import train_test_split\n",
    "from sklearn.ensemble import RandomForestClassifier\n",
    "from itertools import product\n",
    "import random\n",
    "from six.moves import cPickle as pickle\n",
    "\n",
    "\n",
    "# data_root = \"C:\\\\Users\\\\Tigran PC\\\\Desktop\\\\MicrobiomicsData\\\\data\\\\\" # notebook\n",
    "# data_root = \"/Users/tigran/Desktop/sbv/data/\" # imac\n",
    "data_root = \"D:\\\\sbv Microbiomics\\\\data\\\\\" # istc pc\n",
    "\n",
    "sub_data_root = data_root + \"sample01split/\""
   ]
  },
  {
   "cell_type": "code",
   "execution_count": 22,
   "metadata": {},
   "outputs": [],
   "source": [
    "def random_cut(full_seq, sub_seq_len, overlap_coef):\n",
    "    cut_indexes = random.sample(range(0, len(full_seq)-sub_seq_len), int(overlap_coef * (len(full_seq))/sub_seq_len))\n",
    "    seq_list = np.array([full_seq[i:i+sub_seq_len] for i in cut_indexes])\n",
    "    return seq_list\n",
    "    \n",
    "    \n",
    "def make_arrays(nb_rows, nb_features):\n",
    "    if nb_rows:\n",
    "        dataset = np.ndarray((nb_rows, nb_features), dtype=np.float32)\n",
    "    else:\n",
    "        dataset, labels = None, None\n",
    "    return dataset\n",
    "\n",
    "def make_features(seq_list, sub_seq_bank):\n",
    "    features_list  = make_arrays(len(seq_list), len(sub_seq_bank))\n",
    "    for i, seq in enumerate(seq_list):    \n",
    "        sub_seq_count = []\n",
    "        for sub_seq in sub_seq_bank:\n",
    "            sub_seq_count.append(seq.count(sub_seq))\n",
    "        features_list[i] = sub_seq_count\n",
    "    return features_list\n",
    "\n",
    "def make_data_frame(features, lable):\n",
    "    df = pd.DataFrame(features)\n",
    "    df['lable'] = lable    \n",
    "    return df\n",
    "\n",
    "def make_sub_seq_bank(initial_string, sub_seq_len):\n",
    "    return [''.join(tup) for tup in  list(set(product(set(initial_string), repeat = sub_seq_len)))]\n",
    "   \n",
    "    \n",
    "def make_data_from_long_seq_list(long_seq_list):\n",
    "    df_list = []\n",
    "    sub_seq_bank = make_sub_seq_bank('ACTG', 4)\n",
    "    for i, long_seq in enumerate(long_seq_list):\n",
    "        seq_list = random_cut(long_seq, 151, 1)\n",
    "        df_tmp = make_data_frame(make_features(seq_list, sub_seq_bank), i)\n",
    "        df_list.append(df_tmp)\n",
    "    return pd.concat(df_list)\n",
    "    \n",
    "    \n",
    "def plot_confusion_matrix(cm, classes,\n",
    "                          normalize=False,\n",
    "                          title='Confusion matrix',\n",
    "                          cmap=plt.cm.Blues):\n",
    "    \"\"\"\n",
    "    This function prints and plots the confusion matrix.\n",
    "    Normalization can be applied by setting `normalize=True`.\n",
    "    \"\"\"\n",
    "    if normalize:\n",
    "        cm = cm.astype('float') / cm.sum(axis=1)[:, np.newaxis]\n",
    "        print(\"Normalized confusion matrix\")\n",
    "    else:\n",
    "        print('Confusion matrix, without normalization')\n",
    "\n",
    "    print(cm)\n",
    "\n",
    "    plt.imshow(cm, interpolation='nearest', cmap=cmap)\n",
    "    plt.title(title)\n",
    "    plt.colorbar()\n",
    "    tick_marks = np.arange(len(classes))\n",
    "    plt.xticks(tick_marks, classes, rotation=45)\n",
    "    plt.yticks(tick_marks, classes)\n",
    "\n",
    "    fmt = '.2f' if normalize else 'd'\n",
    "    thresh = cm.max() / 2.\n",
    "    for i, j in itertools.product(range(cm.shape[0]), range(cm.shape[1])):\n",
    "        plt.text(j, i, format(cm[i, j], fmt),\n",
    "                 horizontalalignment=\"center\",\n",
    "                 color=\"white\" if cm[i, j] > thresh else \"black\")\n",
    "\n",
    "    plt.tight_layout()\n",
    "    plt.ylabel('True label')\n",
    "    plt.xlabel('Predicted label')\n",
    "    \n"
   ]
  },
  {
   "cell_type": "code",
   "execution_count": 23,
   "metadata": {},
   "outputs": [],
   "source": [
    "full_seq11 = []\n",
    "full_seq22 = []\n",
    "\n",
    "with open(data_root + \"CBMB205.fasta\", 'r') as myfile:\n",
    "    full_seq11=myfile.read().replace('\\n', '')\n",
    "    \n",
    "with open(data_root + \"F0441.fna\", 'r') as myfile:\n",
    "    full_seq22=myfile.read().replace('\\n', '')\n",
    "    \n",
    "full_seq1 = full_seq11[:1000000]\n",
    "full_seq2 = full_seq22[:1000000]\n",
    "full_seq3 = full_seq22[1000000:]\n"
   ]
  },
  {
   "cell_type": "code",
   "execution_count": 30,
   "metadata": {},
   "outputs": [
    {
     "name": "stdout",
     "output_type": "stream",
     "text": [
      "Wall time: 3.57 s\n"
     ]
    }
   ],
   "source": [
    "long_seq_list = [full_seq1, full_seq2, full_seq3]\n",
    "%time df = make_data_from_long_seq_list(long_seq_list)"
   ]
  },
  {
   "cell_type": "code",
   "execution_count": 31,
   "metadata": {},
   "outputs": [
    {
     "data": {
      "text/plain": [
       "(19741, 257)"
      ]
     },
     "execution_count": 31,
     "metadata": {},
     "output_type": "execute_result"
    }
   ],
   "source": [
    "df.shape"
   ]
  },
  {
   "cell_type": "code",
   "execution_count": 32,
   "metadata": {},
   "outputs": [],
   "source": [
    "df = df.sample(frac=1).reset_index(drop=True)\n",
    "\n",
    "# df.to_csv(data_root + \"DNA_data.csv\")\n",
    "\n",
    "X = df.values[:, :-1]\n",
    "y = df.values[:, -1]\n",
    "# df.head(20)"
   ]
  },
  {
   "cell_type": "code",
   "execution_count": 33,
   "metadata": {},
   "outputs": [],
   "source": [
    "# pickle_file = data_root + \"DNA_data.pickle\"\n",
    "\n",
    "# try:   \n",
    "#     f = open(pickle_file, 'wb')\n",
    "#     pickle.dump(df, f, pickle.HIGHEST_PROTOCOL)\n",
    "#     f.close()\n",
    "# except Exception as e:\n",
    "#     print('Unable to save data to', pickle_file, ':', e)\n",
    "#     raise"
   ]
  },
  {
   "cell_type": "code",
   "execution_count": 34,
   "metadata": {},
   "outputs": [],
   "source": [
    "x_train, x_test, y_train, y_test = train_test_split(X, y, test_size=0.2)"
   ]
  },
  {
   "cell_type": "code",
   "execution_count": 35,
   "metadata": {},
   "outputs": [
    {
     "name": "stdout",
     "output_type": "stream",
     "text": [
      "Wall time: 1min 33s\n",
      "done\n"
     ]
    }
   ],
   "source": [
    "clf = svm.SVC(C=5) #kernel='rbf', C=5, degree=2, tol=1e-7)\n",
    "%time clf.fit(x_train, y_train) \n",
    "print(\"done\")"
   ]
  },
  {
   "cell_type": "code",
   "execution_count": 36,
   "metadata": {},
   "outputs": [
    {
     "name": "stdout",
     "output_type": "stream",
     "text": [
      "Wall time: 11 s\n",
      "done\n"
     ]
    }
   ],
   "source": [
    "%time y_pred = clf.predict(x_test)\n",
    "print(\"done\")"
   ]
  },
  {
   "cell_type": "code",
   "execution_count": 37,
   "metadata": {},
   "outputs": [
    {
     "data": {
      "text/plain": [
       "0.8622436059761965"
      ]
     },
     "execution_count": 37,
     "metadata": {},
     "output_type": "execute_result"
    }
   ],
   "source": [
    "accuracy_score(y_test, y_pred)"
   ]
  },
  {
   "cell_type": "code",
   "execution_count": 38,
   "metadata": {},
   "outputs": [
    {
     "data": {
      "text/plain": [
       "array([[1280,   20,   38],\n",
       "       [  30, 1103,  213],\n",
       "       [  38,  205, 1022]], dtype=int64)"
      ]
     },
     "execution_count": 38,
     "metadata": {},
     "output_type": "execute_result"
    }
   ],
   "source": [
    "confusion_matrix(y_test, y_pred)"
   ]
  },
  {
   "cell_type": "code",
   "execution_count": 39,
   "metadata": {},
   "outputs": [
    {
     "name": "stdout",
     "output_type": "stream",
     "text": [
      "Normalized confusion matrix\n",
      "[[0.95665172 0.01494768 0.0284006 ]\n",
      " [0.02228826 0.81946508 0.15824666]\n",
      " [0.03003953 0.16205534 0.80790514]]\n"
     ]
    },
    {
     "data": {
      "image/png": "[encoded data removed]",
      "text/plain": [
       "<Figure size 432x288 with 2 Axes>"
      ]
     },
     "metadata": {},
     "output_type": "display_data"
    }
   ],
   "source": [
    "plot_confusion_matrix(confusion_matrix(y_test, y_pred), ['a','b'], normalize=True)"
   ]
  },
  {
   "cell_type": "code",
   "execution_count": null,
   "metadata": {},
   "outputs": [],
   "source": []
  },
  {
   "cell_type": "code",
   "execution_count": null,
   "metadata": {},
   "outputs": [],
   "source": []
  },
  {
   "cell_type": "code",
   "execution_count": 13,
   "metadata": {},
   "outputs": [],
   "source": []
  },
  {
   "cell_type": "code",
   "execution_count": null,
   "metadata": {},
   "outputs": [],
   "source": []
  }
 ],
 "metadata": {
  "kernelspec": {
   "display_name": "Python 3",
   "language": "python",
   "name": "python3"
  },
  "language_info": {
   "codemirror_mode": {
    "name": "ipython",
    "version": 3
   },
   "file_extension": ".py",
   "mimetype": "text/x-python",
   "name": "python",
   "nbconvert_exporter": "python",
   "pygments_lexer": "ipython3",
   "version": "3.6.5"
  }
 },
 "nbformat": 4,
 "nbformat_minor": 2
}
