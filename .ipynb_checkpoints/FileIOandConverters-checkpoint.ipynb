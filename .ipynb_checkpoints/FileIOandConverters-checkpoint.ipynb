{
 "cells": [
  {
   "cell_type": "markdown",
   "metadata": {},
   "source": [
    "### Converting and cuting files"
   ]
  },
  {
   "cell_type": "code",
   "execution_count": 1,
   "metadata": {},
   "outputs": [],
   "source": [
    "import Bio\n",
    "from Bio import SeqIO\n",
    "from Bio.SeqIO.QualityIO import FastqGeneralIterator\n",
    "\n",
    "# data_root = \"C:\\\\Users\\\\Tigran PC\\\\Desktop\\\\MicrobiomicsData\\\\data\\\\\" # notebook\n",
    "# data_root = \"/Users/tigran/Desktop/sbv/data/\" # imac\n",
    "data_root = \"D:\\\\sbv Microbiomics\\\\data\\\\\" # istc pc\n",
    "\n",
    "sub_data_root = data_root + \"kraken_seq_split/\""
   ]
  },
  {
   "cell_type": "markdown",
   "metadata": {},
   "source": [
    "### Smocking file"
   ]
  },
  {
   "cell_type": "code",
   "execution_count": 21,
   "metadata": {},
   "outputs": [
    {
     "name": "stdout",
     "output_type": "stream",
     "text": [
      "X00001:01:XXXXXXXXX:0:0000:0000:000000001\n",
      "{'phred_quality': [38, 33, 38, 38, 41, 41, 41, 41, 41, 41, 41, 41, 41, 41, 41, 41, 41, 41, 41, 41, 41, 41, 41, 33, 41, 41, 41, 41, 41, 41, 41, 41, 41, 41, 41, 41, 41, 41, 41, 41, 41, 41, 41, 41, 41, 41, 41, 41, 41, 33, 41, 41, 41, 41, 41, 41, 41, 41, 41, 41, 33, 41, 41, 41, 41, 41, 38, 41, 41, 41, 41, 41, 41, 41, 41, 38, 41, 38, 41, 41, 41, 41, 41, 41, 41, 41, 41, 28, 41, 41, 41, 41, 41, 41, 41, 41, 41, 41, 41, 41, 38, 41, 41, 41, 38, 41, 41, 41, 41, 41, 13, 41, 41, 41, 41, 41, 41, 13, 41, 41, 41, 38, 41, 33, 41, 13, 41, 41, 41, 38, 38, 41, 41, 41, 41, 41, 33, 28, 41, 41, 41, 41, 28, 38, 41, 41, 41, 38, 41, 38, 23]}\n",
      "<class 'Bio.SeqRecord.SeqRecord'>\n"
     ]
    }
   ],
   "source": [
    "counter = 0\n",
    "for record in SeqIO.parse(data_root + \"sample01_S01_L001_R1_001.fastq\", format=\"fastq\"):\n",
    "    counter+=1    \n",
    "    seqrecord1 = record\n",
    "    print(record.id)\n",
    "    print(record.letter_annotations)\n",
    "    print(type(record))\n",
    "    if counter >= 1:\n",
    "        break"
   ]
  },
  {
   "cell_type": "code",
   "execution_count": 22,
   "metadata": {},
   "outputs": [
    {
     "name": "stdout",
     "output_type": "stream",
     "text": [
      "16 records\n"
     ]
    }
   ],
   "source": [
    "count = 0\n",
    "seq_list =[]\n",
    "with open(data_root + \"sample01_S01_L001_R1_001.fastq\") as in_handle:\n",
    "     for name, seq, qual in FastqGeneralIterator(in_handle):\n",
    "        seq_list.append(seq)           \n",
    "        count += 1\n",
    "        if count > 15:\n",
    "            break\n",
    "\n",
    "print(\"{0} records\".format(count))\n",
    "# print(seq_list)"
   ]
  },
  {
   "cell_type": "markdown",
   "metadata": {},
   "source": [
    "### Cutting fatq"
   ]
  },
  {
   "cell_type": "code",
   "execution_count": 23,
   "metadata": {},
   "outputs": [],
   "source": [
    "def batch_iterator(iterator, batch_size):\n",
    "    \"\"\"Returns lists of length batch_size.\n",
    "\n",
    "    This can be used on any iterator, for example to batch up\n",
    "    SeqRecord objects from Bio.SeqIO.parse(...), or to batch\n",
    "    Alignment objects from Bio.AlignIO.parse(...), or simply\n",
    "    lines from a file handle.\n",
    "\n",
    "    This is a generator function, and it returns lists of the\n",
    "    entries from the supplied iterator.  Each list will have\n",
    "    batch_size entries, although the final list may be shorter.\n",
    "    \"\"\"\n",
    "    entry = True  # Make sure we loop once\n",
    "    while entry:\n",
    "        batch = []\n",
    "        while len(batch) < batch_size:\n",
    "            try:\n",
    "                entry = next(iterator)\n",
    "            except StopIteration:\n",
    "                entry = None\n",
    "            if entry is None:\n",
    "                # End of file\n",
    "                break\n",
    "            batch.append(entry)\n",
    "        if batch:\n",
    "            yield batch"
   ]
  },
  {
   "cell_type": "code",
   "execution_count": 24,
   "metadata": {},
   "outputs": [
    {
     "name": "stdout",
     "output_type": "stream",
     "text": [
      "Wrote 1000 records to D:\\sbv Microbiomics\\data\\kraken_seq_split/kraken_seq_split1000_1.fasta\n"
     ]
    }
   ],
   "source": [
    "from Bio import SeqIO\n",
    "record_iter = SeqIO.parse(open(data_root + \"kraken_sequences.fasta\"), \"fasta\")\n",
    "\n",
    "for i, batch in enumerate(batch_iterator(record_iter, 1000)):                         \n",
    "    filename = sub_data_root + \"kraken_seq_split1000_%i.fasta\" % (i + 1)\n",
    "    with open(filename, \"w\") as handle:\n",
    "        count = SeqIO.write(batch, handle, \"fasta\")\n",
    "    print(\"Wrote %i records to %s\" % (count, filename))\n",
    "    break"
   ]
  },
  {
   "cell_type": "markdown",
   "metadata": {},
   "source": [
    "### Converting to Fasta"
   ]
  },
  {
   "cell_type": "code",
   "execution_count": 4,
   "metadata": {},
   "outputs": [
    {
     "name": "stdout",
     "output_type": "stream",
     "text": [
      "Converted 10819530 records\n"
     ]
    }
   ],
   "source": [
    "from Bio import SeqIO\n",
    "count = SeqIO.convert(data_root + \"sample01_S01_L001_R1_001.fastq\", \"fastq\", data_root + \"sample01_group_1.fasta\", \"fasta\")\n",
    "print(\"Converted %i records\" % count)"
   ]
  },
  {
   "cell_type": "code",
   "execution_count": 3,
   "metadata": {
    "scrolled": true
   },
   "outputs": [
    {
     "name": "stdout",
     "output_type": "stream",
     "text": [
      "4293048\n",
      "kraken:taxid|1496|NZ_CP016318.1\n",
      "7881\n",
      "kraken:taxid|1496|NZ_CP016319.1\n",
      "3970947\n",
      "kraken:taxid|470|NZ_CP016295.1\n",
      "110968\n",
      "kraken:taxid|470|NZ_CP016296.1\n",
      "74090\n",
      "kraken:taxid|470|NZ_CP016297.1\n",
      "2174791\n",
      "kraken:taxid|487|NZ_CP016660.1\n",
      "3751882\n",
      "kraken:taxid|221822|NZ_CP010749.1\n",
      "234655\n",
      "kraken:taxid|221822|NZ_CP010750.1\n",
      "226389\n",
      "kraken:taxid|221822|NZ_CP010751.1\n",
      "78210\n",
      "kraken:taxid|221822|NZ_CP010752.1\n"
     ]
    }
   ],
   "source": [
    "counter = 0\n",
    "for record in SeqIO.parse(data_root + \"kraken_seq_split10_1.fasta\", format=\"fasta\"):\n",
    "    counter+=1    \n",
    "    print(len(record.seq))\n",
    "    print(record.id)\n",
    "    if counter >= 1100:\n",
    "        break"
   ]
  },
  {
   "cell_type": "code",
   "execution_count": 26,
   "metadata": {},
   "outputs": [
    {
     "name": "stdout",
     "output_type": "stream",
     "text": [
      "1000\n"
     ]
    }
   ],
   "source": [
    "print(counter)"
   ]
  },
  {
   "cell_type": "code",
   "execution_count": null,
   "metadata": {},
   "outputs": [],
   "source": []
  }
 ],
 "metadata": {
  "kernelspec": {
   "display_name": "Python 3",
   "language": "python",
   "name": "python3"
  },
  "language_info": {
   "codemirror_mode": {
    "name": "ipython",
    "version": 3
   },
   "file_extension": ".py",
   "mimetype": "text/x-python",
   "name": "python",
   "nbconvert_exporter": "python",
   "pygments_lexer": "ipython3",
   "version": "3.6.5"
  }
 },
 "nbformat": 4,
 "nbformat_minor": 2
}
