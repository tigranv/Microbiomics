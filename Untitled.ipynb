{
 "cells": [
  {
   "cell_type": "code",
   "execution_count": 2,
   "metadata": {},
   "outputs": [],
   "source": [
    "import Bio\n",
    "from Bio import SeqIO\n",
    "from Bio.Blast import NCBIWWW\n",
    "data_root = \"C:\\\\Users\\\\Tigran PC\\\\Desktop\\\\MicrobiomicsData\\\\data\\\\\" # notebook\n",
    "# data_root = \"/Users/tigran/Desktop/sbv/data/\" # imac\n",
    "# data_root = \"D:\\\\sbv Microbiomics\\\\data\\\\\" # istc pc"
   ]
  },
  {
   "cell_type": "code",
   "execution_count": 9,
   "metadata": {},
   "outputs": [
    {
     "name": "stdout",
     "output_type": "stream",
     "text": [
      "CTTGTATTATCAAAGCTAACTTTAAAAGGGGAAAATCAAGGATGAATTCAAAAGATTAATTTTATTAAACATTGTCTTGCTTATTATATTGGTGGGTGGGGGTTTTGCCGGTTATTCTTACTACAACCGCACGATCAATTACTTATCAACT\n",
      "ATGGATAATTATCATGAGATTCATTCGGACATAAGAAATCCAAAATTTATTTTACAAAAGCAGATTGAACGGGAACTCATGTTGCGATACCCGGAACATTATGTTTCCATGCATGTTTTGGTTATGTTTACCAATACCCCGTATGCTAAAG\n"
     ]
    }
   ],
   "source": [
    "counter = 0\n",
    "seqrecord1=0\n",
    "for record in SeqIO.parse(data_root + \"sample01_S01_L001_R1_001.fastq\", format=\"fastq\"):\n",
    "    counter+=1    \n",
    "    print(record.seq)\n",
    "#     print(record.letter_annotations)\n",
    "#     print(type(record))\n",
    "    if counter >= 2:\n",
    "        break"
   ]
  },
  {
   "cell_type": "code",
   "execution_count": null,
   "metadata": {},
   "outputs": [],
   "source": []
  }
 ],
 "metadata": {
  "kernelspec": {
   "display_name": "Python 3",
   "language": "python",
   "name": "python3"
  },
  "language_info": {
   "codemirror_mode": {
    "name": "ipython",
    "version": 3
   },
   "file_extension": ".py",
   "mimetype": "text/x-python",
   "name": "python",
   "nbconvert_exporter": "python",
   "pygments_lexer": "ipython3",
   "version": "3.6.4"
  }
 },
 "nbformat": 4,
 "nbformat_minor": 2
}
