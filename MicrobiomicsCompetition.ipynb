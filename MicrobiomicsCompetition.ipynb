{
 "cells": [
  {
   "cell_type": "markdown",
   "metadata": {},
   "source": [
    "### Converting and cuting files"
   ]
  },
  {
   "cell_type": "code",
   "execution_count": 1,
   "metadata": {},
   "outputs": [],
   "source": [
    "import Bio\n",
    "from Bio import SeqIO\n",
    "from Bio.Blast import NCBIWWW\n",
    "data_root = \"C:\\\\Users\\\\Tigran PC\\\\Desktop\\\\MicrobiomicsData\\\\data\\\\\" # notebook\n",
    "# data_root = \"/Users/tigran/Desktop/sbv/data/\" # imac\n",
    "# data_root = \"D:\\\\sbv Microbiomics\\\\data\\\\\" # istc pc"
   ]
  },
  {
   "cell_type": "code",
   "execution_count": 2,
   "metadata": {},
   "outputs": [
    {
     "name": "stdout",
     "output_type": "stream",
     "text": [
      "X00001:01:XXXXXXXXX:0:0000:0000:000000001\n",
      "{'phred_quality': [38, 33, 38, 38, 41, 41, 41, 41, 41, 41, 41, 41, 41, 41, 41, 41, 41, 41, 41, 41, 41, 41, 41, 33, 41, 41, 41, 41, 41, 41, 41, 41, 41, 41, 41, 41, 41, 41, 41, 41, 41, 41, 41, 41, 41, 41, 41, 41, 41, 33, 41, 41, 41, 41, 41, 41, 41, 41, 41, 41, 33, 41, 41, 41, 41, 41, 38, 41, 41, 41, 41, 41, 41, 41, 41, 38, 41, 38, 41, 41, 41, 41, 41, 41, 41, 41, 41, 28, 41, 41, 41, 41, 41, 41, 41, 41, 41, 41, 41, 41, 38, 41, 41, 41, 38, 41, 41, 41, 41, 41, 13, 41, 41, 41, 41, 41, 41, 13, 41, 41, 41, 38, 41, 33, 41, 13, 41, 41, 41, 38, 38, 41, 41, 41, 41, 41, 33, 28, 41, 41, 41, 41, 28, 38, 41, 41, 41, 38, 41, 38, 23]}\n",
      "<class 'Bio.SeqRecord.SeqRecord'>\n"
     ]
    }
   ],
   "source": [
    "counter = 0\n",
    "seqrecord1=0\n",
    "for record in SeqIO.parse(data_root + \"sample01_S01_L001_R1_001.fastq\", format=\"fastq\"):\n",
    "    counter+=1    \n",
    "    seqrecord1 = record\n",
    "    print(record.id)\n",
    "    print(record.letter_annotations)\n",
    "    print(type(record))\n",
    "    if counter >= 1:\n",
    "        break"
   ]
  },
  {
   "cell_type": "code",
   "execution_count": 4,
   "metadata": {},
   "outputs": [],
   "source": [
    "# for record in SeqIO.parse(data_root + \"sample01_S01_L001_R1_001.fastq\", format=\"fastq\"):\n",
    "#     counter+=1\n",
    "#     if(seqrecord1.seq == record.seq):            \n",
    "#             print(record.id)\n",
    "#     if counter > 100:\n",
    "#         break"
   ]
  },
  {
   "cell_type": "code",
   "execution_count": 5,
   "metadata": {},
   "outputs": [],
   "source": [
    "#  identifiers = [seq_record.id for seq_record in SeqIO.parse(\"ls_orchid.gbk\", \"genbank\")]\n",
    "# from Bio import SeqIO\n",
    "# orchid_dict = SeqIO.index(data_root_nb + \"sample01_S01_L001_R1_001.fastq\", \"fastq\")\n",
    "# len(orchid_dict)\n"
   ]
  },
  {
   "cell_type": "code",
   "execution_count": 6,
   "metadata": {},
   "outputs": [],
   "source": [
    "# import glob\n",
    "# from Bio import SeqIO\n",
    "# files = glob.glob(data_root + \"sample01_S01_L001_R1_001.fastq\")\n",
    "# print(\"%i files to index\" % len(files))\n",
    "\n",
    "# gb_vrl = SeqIO.index_db(\"gbvrl.idx\", files, \"genbank\")\n",
    "# print(\"%i sequences indexed\" % len(gb_vrl))\n",
    "# gb_vrl.keys"
   ]
  },
  {
   "cell_type": "code",
   "execution_count": 16,
   "metadata": {},
   "outputs": [
    {
     "name": "stdout",
     "output_type": "stream",
     "text": [
      "200001 records with total sequence length 0\n",
      "200001\n"
     ]
    }
   ],
   "source": [
    "from Bio.SeqIO.QualityIO import FastqGeneralIterator\n",
    "count = 0\n",
    "counter11=0\n",
    "total_len = 0\n",
    "cleand =[]\n",
    "with open(data_root + \"sample01_S01_L001_R1_001.fastq\") as in_handle:\n",
    "     for name, seq, qual in FastqGeneralIterator(in_handle):\n",
    "        if seq not in  cleand:\n",
    "            cleand.append(name)           \n",
    "        count += 1\n",
    "        if count > 200000:\n",
    "            break\n",
    "\n",
    "print(\"%i records with total sequence length %i\" % (count, total_len))\n",
    "print(len(cleand))\n"
   ]
  },
  {
   "cell_type": "code",
   "execution_count": 8,
   "metadata": {},
   "outputs": [],
   "source": [
    "# from Bio.Blast import NCBIWWW\n",
    "# result_handle = NCBIWWW.qblast(\"blastn\", \"nt\", seqrecord1.seq)\n",
    "\n",
    "# with open(data_root + \"blast/\"+ seqrecord1.id[-9:] + \".xml\", \"w\") as out_handle:\n",
    "#     out_handle.write(result_handle.read())\n",
    "\n",
    "# result_handle.close()\n"
   ]
  },
  {
   "cell_type": "code",
   "execution_count": 9,
   "metadata": {},
   "outputs": [],
   "source": [
    "# result_handle = open(data_root + \"blast/\"+ seqrecord1.id[-9:] + \".xml\")\n",
    "# from Bio.Blast import NCBIXML\n",
    "# blast_record = NCBIXML.read(result_handle)\n",
    "# # blast_records = NCBIXML.parse(result_handle)\n"
   ]
  },
  {
   "cell_type": "code",
   "execution_count": 10,
   "metadata": {},
   "outputs": [],
   "source": [
    "# E_VALUE_THRESH = 0.04\n",
    "# for alignment in blast_record.alignments:\n",
    "#     for hsp in alignment.hsps:\n",
    "#         if hsp.expect < E_VALUE_THRESH:\n",
    "#             print(\"****Alignment****\")\n",
    "#             print(\"sequence:\", alignment.title)\n",
    "#             print(\"length:\", alignment.length)\n",
    "#             print(\"e value:\", hsp.expect)\n",
    "#             print(hsp.query[0:75] + \"...\")\n",
    "#             print(hsp.match[0:75] + \"...\")\n",
    "#             print(hsp.sbjct[0:75] + \"...\")\n"
   ]
  },
  {
   "cell_type": "code",
   "execution_count": 11,
   "metadata": {},
   "outputs": [],
   "source": [
    "# from Bio import SearchIO\n",
    "# last_qresult = SearchIO.read(data_root + \"blast/\"+ seqrecord1.id[-9:] + \".xml\", \"blast-xml\")\n",
    "# print(last_qresult)"
   ]
  },
  {
   "cell_type": "code",
   "execution_count": 12,
   "metadata": {},
   "outputs": [],
   "source": [
    "# print(last_qresult[0])"
   ]
  },
  {
   "cell_type": "code",
   "execution_count": 13,
   "metadata": {},
   "outputs": [],
   "source": [
    "# from Bio import Entrez\n",
    "# Entrez.email = \"Tigran_vardanyan@yahoo.com\"     # Always tell NCBI who you are\n",
    "# handle = Entrez.einfo()\n",
    "# result = handle.read()\n",
    "# handle.close()"
   ]
  },
  {
   "cell_type": "code",
   "execution_count": 14,
   "metadata": {},
   "outputs": [],
   "source": [
    "# print(result)"
   ]
  },
  {
   "cell_type": "code",
   "execution_count": 3,
   "metadata": {},
   "outputs": [],
   "source": [
    "def batch_iterator(iterator, batch_size):\n",
    "    \"\"\"Returns lists of length batch_size.\n",
    "\n",
    "    This can be used on any iterator, for example to batch up\n",
    "    SeqRecord objects from Bio.SeqIO.parse(...), or to batch\n",
    "    Alignment objects from Bio.AlignIO.parse(...), or simply\n",
    "    lines from a file handle.\n",
    "\n",
    "    This is a generator function, and it returns lists of the\n",
    "    entries from the supplied iterator.  Each list will have\n",
    "    batch_size entries, although the final list may be shorter.\n",
    "    \"\"\"\n",
    "    entry = True  # Make sure we loop once\n",
    "    while entry:\n",
    "        batch = []\n",
    "        while len(batch) < batch_size:\n",
    "            try:\n",
    "                entry = next(iterator)\n",
    "            except StopIteration:\n",
    "                entry = None\n",
    "            if entry is None:\n",
    "                # End of file\n",
    "                break\n",
    "            batch.append(entry)\n",
    "        if batch:\n",
    "            yield batch"
   ]
  },
  {
   "cell_type": "code",
   "execution_count": null,
   "metadata": {},
   "outputs": [],
   "source": []
  },
  {
   "cell_type": "code",
   "execution_count": 5,
   "metadata": {},
   "outputs": [
    {
     "name": "stdout",
     "output_type": "stream",
     "text": [
      "Wrote 100 records to C:\\Users\\Tigran PC\\Desktop\\MicrobiomicsData\\data\\sample01split/sample01_group_1.fastq\n"
     ]
    }
   ],
   "source": [
    "from Bio import SeqIO\n",
    "\n",
    "record_iter = SeqIO.parse(open(data_root + \"sample01_S01_L001_R1_001.fastq\"), \"fastq\")\n",
    "                          \n",
    "\n",
    "                          \n",
    "for i, batch in enumerate(batch_iterator(record_iter, 100)):                         \n",
    "    filename = data_root + \"sample01split/\"+ \"sample01_group_%i.fastq\" % (i + 1)\n",
    "    with open(filename, \"w\") as handle:\n",
    "        count = SeqIO.write(batch, handle, \"fastq\")\n",
    "    print(\"Wrote %i records to %s\" % (count, filename))\n",
    "    break\n",
    "                          \n",
    "                          \n",
    "    "
   ]
  },
  {
   "cell_type": "code",
   "execution_count": null,
   "metadata": {},
   "outputs": [],
   "source": []
  }
 ],
 "metadata": {
  "kernelspec": {
   "display_name": "Python 3",
   "language": "python",
   "name": "python3"
  },
  "language_info": {
   "codemirror_mode": {
    "name": "ipython",
    "version": 3
   },
   "file_extension": ".py",
   "mimetype": "text/x-python",
   "name": "python",
   "nbconvert_exporter": "python",
   "pygments_lexer": "ipython3",
   "version": "3.6.4"
  }
 },
 "nbformat": 4,
 "nbformat_minor": 2
}
