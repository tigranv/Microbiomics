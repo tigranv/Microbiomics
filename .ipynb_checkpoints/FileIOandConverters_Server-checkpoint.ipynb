{
 "cells": [
  {
   "cell_type": "markdown",
   "metadata": {},
   "source": [
    "### Converting and cuting files"
   ]
  },
  {
   "cell_type": "code",
   "execution_count": 1,
   "metadata": {},
   "outputs": [],
   "source": [
    "import Bio\n",
    "from Bio import SeqIO\n",
    "from Bio.SeqIO.QualityIO import FastqGeneralIterator\n",
    "\n",
    "# data_root = \"C:\\\\Users\\\\Tigran PC\\\\Desktop\\\\MicrobiomicsData\\\\data\\\\\" # notebook\n",
    "# data_root = \"/Users/tigran/Desktop/sbv/data/\" # imac\n",
    "data_root = \"C:\\\\Users\\\\Administrator\" # istc pc\n",
    "\n",
    "sub_data_root = data_root + \"kraken_seq_split\""
   ]
  },
  {
   "cell_type": "markdown",
   "metadata": {},
   "source": [
    "### Smocking file"
   ]
  },
  {
   "cell_type": "code",
   "execution_count": 2,
   "metadata": {},
   "outputs": [],
   "source": [
    "# counter = 0\n",
    "# for record in SeqIO.parse(data_root + \"sample01_S01_L001_R1_001.fastq\", format=\"fastq\"):\n",
    "#     counter+=1    \n",
    "#     seqrecord1 = record\n",
    "#     print(record.id)\n",
    "#     print(record.letter_annotations)\n",
    "#     print(type(record))\n",
    "#     if counter >= 1:\n",
    "#         break"
   ]
  },
  {
   "cell_type": "code",
   "execution_count": 3,
   "metadata": {},
   "outputs": [
    {
     "name": "stdout",
     "output_type": "stream",
     "text": [
      "16 records\n"
     ]
    }
   ],
   "source": [
    "count = 0\n",
    "seq_list =[]\n",
    "with open(data_root + \"sample01_S01_L001_R1_001.fastq\") as in_handle:\n",
    "     for name, seq, qual in FastqGeneralIterator(in_handle):\n",
    "        seq_list.append(seq)           \n",
    "        count += 1\n",
    "        if count > 15:\n",
    "            break\n",
    "\n",
    "print(\"{0} records\".format(count))\n",
    "# print(seq_list)"
   ]
  },
  {
   "cell_type": "markdown",
   "metadata": {},
   "source": [
    "### Cutting fatq"
   ]
  },
  {
   "cell_type": "code",
   "execution_count": 3,
   "metadata": {},
   "outputs": [],
   "source": [
    "def batch_iterator(iterator, batch_size):\n",
    "    \"\"\"Returns lists of length batch_size.\n",
    "\n",
    "    This can be used on any iterator, for example to batch up\n",
    "    SeqRecord objects from Bio.SeqIO.parse(...), or to batch\n",
    "    Alignment objects from Bio.AlignIO.parse(...), or simply\n",
    "    lines from a file handle.\n",
    "\n",
    "    This is a generator function, and it returns lists of the\n",
    "    entries from the supplied iterator.  Each list will have\n",
    "    batch_size entries, although the final list may be shorter.\n",
    "    \"\"\"\n",
    "    entry = True  # Make sure we loop once\n",
    "    while entry:\n",
    "        batch = []\n",
    "        while len(batch) < batch_size:\n",
    "            try:\n",
    "                entry = next(iterator)\n",
    "            except StopIteration:\n",
    "                entry = None\n",
    "            if entry is None:\n",
    "                # End of file\n",
    "                break\n",
    "            if \"plasmid\" not in entry.description:\n",
    "                batch.append(entry)\n",
    "        if batch:\n",
    "            yield batch"
   ]
  },
  {
   "cell_type": "code",
   "execution_count": 4,
   "metadata": {},
   "outputs": [
    {
     "name": "stdout",
     "output_type": "stream",
     "text": [
      "Wrote 7311 records to C:\\Users\\Administrator\\kraken_sequences_filtered_1.fasta\n"
     ]
    }
   ],
   "source": [
    "from Bio import SeqIO\n",
    "record_iter = SeqIO.parse(open(data_root + \"\\\\kraken_sequences.fasta\"), \"fasta\")\n",
    "\n",
    "for i, batch in enumerate(batch_iterator(record_iter, 15000)):                         \n",
    "    filename = data_root + \"\\\\kraken_sequences_filtered_%i.fasta\" % (i + 1)\n",
    "    with open(filename, \"w\") as handle:\n",
    "        count = SeqIO.write(batch, handle, \"fasta\")\n",
    "    print(\"Wrote %i records to %s\" % (count, filename))\n",
    "    break"
   ]
  },
  {
   "cell_type": "markdown",
   "metadata": {},
   "source": [
    "### Converting to Fasta"
   ]
  },
  {
   "cell_type": "code",
   "execution_count": 4,
   "metadata": {},
   "outputs": [
    {
     "name": "stdout",
     "output_type": "stream",
     "text": [
      "Converted 10819530 records\n"
     ]
    }
   ],
   "source": [
    "from Bio import SeqIO\n",
    "count = SeqIO.convert(data_root + \"sample01_S01_L001_R1_001.fastq\", \"fastq\", data_root + \"sample01_group_1.fasta\", \"fasta\")\n",
    "print(\"Converted %i records\" % count)"
   ]
  },
  {
   "cell_type": "code",
   "execution_count": 4,
   "metadata": {
    "scrolled": true
   },
   "outputs": [
    {
     "name": "stdout",
     "output_type": "stream",
     "text": [
      "4293048\n",
      "7881\n",
      "3970947\n",
      "110968\n",
      "74090\n",
      "2174791\n",
      "3751882\n",
      "234655\n",
      "226389\n",
      "78210\n",
      "70131\n",
      "60878\n",
      "57788\n",
      "3260450\n",
      "286935\n",
      "1696029\n",
      "62715\n",
      "1495500\n",
      "52585\n",
      "20973\n",
      "6086\n",
      "1347652\n",
      "3091045\n",
      "4655467\n",
      "5262974\n",
      "147346\n",
      "109344\n",
      "6647\n",
      "4063\n",
      "3256\n",
      "3087\n",
      "1459\n",
      "59373\n",
      "6398100\n",
      "4593248\n",
      "73034\n",
      "120760\n",
      "4425860\n",
      "1631634\n",
      "5730025\n",
      "632672\n",
      "3465\n",
      "5388622\n",
      "204123\n",
      "149158\n",
      "5621728\n",
      "2072007\n",
      "2932050\n",
      "196671\n",
      "81463\n",
      "74986\n",
      "4807052\n",
      "4313264\n",
      "5353110\n",
      "38384\n",
      "121030\n",
      "54064\n",
      "5243635\n",
      "7486\n",
      "12487\n",
      "41937\n",
      "46165\n",
      "54205\n",
      "55372\n",
      "293705\n",
      "635508\n",
      "5337491\n",
      "110374\n",
      "71587\n",
      "5313102\n",
      "203385\n",
      "61840\n",
      "47122\n",
      "3308896\n",
      "2215292\n",
      "1240344\n",
      "1890354\n",
      "3649316\n",
      "184737\n",
      "157294\n",
      "156079\n",
      "3766545\n",
      "4411507\n",
      "4063596\n",
      "4754\n",
      "9276\n",
      "47457\n",
      "6078\n",
      "6000511\n",
      "4077713\n",
      "195838\n",
      "6287975\n",
      "1667858\n",
      "2121309\n",
      "4061552\n",
      "6147290\n",
      "6130232\n",
      "11742376\n",
      "4766421\n",
      "27036\n"
     ]
    }
   ],
   "source": [
    "counter = 0\n",
    "for record in SeqIO.parse(data_root + \"\\\\kraken_seq_split_100.fasta\", format=\"fasta\"):\n",
    "    counter+=1    \n",
    "    print(len(record.seq))\n",
    "#     print(len(record.id))\n",
    "    if counter >= 110:\n",
    "        break"
   ]
  },
  {
   "cell_type": "code",
   "execution_count": 1,
   "metadata": {},
   "outputs": [
    {
     "data": {
      "text/plain": [
       "0"
      ]
     },
     "execution_count": 1,
     "metadata": {},
     "output_type": "execute_result"
    }
   ],
   "source": [
    "import gc\n",
    "gc.collect()"
   ]
  },
  {
   "cell_type": "code",
   "execution_count": null,
   "metadata": {},
   "outputs": [],
   "source": []
  }
 ],
 "metadata": {
  "kernelspec": {
   "display_name": "Python 3",
   "language": "python",
   "name": "python3"
  },
  "language_info": {
   "codemirror_mode": {
    "name": "ipython",
    "version": 3
   },
   "file_extension": ".py",
   "mimetype": "text/x-python",
   "name": "python",
   "nbconvert_exporter": "python",
   "pygments_lexer": "ipython3",
   "version": "3.6.5"
  }
 },
 "nbformat": 4,
 "nbformat_minor": 2
}
