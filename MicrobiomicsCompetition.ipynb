{
 "cells": [
  {
   "cell_type": "code",
   "execution_count": 14,
   "metadata": {},
   "outputs": [],
   "source": [
    "import Bio\n",
    "from Bio import SeqIO\n",
    "from Bio.Blast import NCBIWWW\n",
    "data_root = \"C:\\\\Users\\\\Tigran PC\\\\Desktop\\\\MicrobiomicsData\\\\data\\\\\" # notebook\n",
    "# data_root = \"/Users/tigran/Desktop/sbv/data/\" # imac\n",
    "# data_root = \"D:\\\\sbv Microbiomics\\\\data\\\\\" # istc pc"
   ]
  },
  {
   "cell_type": "code",
   "execution_count": 15,
   "metadata": {},
   "outputs": [
    {
     "name": "stdout",
     "output_type": "stream",
     "text": [
      "ID: X00001:01:XXXXXXXXX:0:0000:0000:000000001\n",
      "Name: X00001:01:XXXXXXXXX:0:0000:0000:000000001\n",
      "Description: X00001:01:XXXXXXXXX:0:0000:0000:000000001 1:N:0:S01\n",
      "Number of features: 0\n",
      "Per letter annotation for: phred_quality\n",
      "Seq('CTTGTATTATCAAAGCTAACTTTAAAAGGGGAAAATCAAGGATGAATTCAAAAG...ACT', SingleLetterAlphabet())\n"
     ]
    }
   ],
   "source": [
    "counter = 0\n",
    "seqrecord1=0\n",
    "for record in SeqIO.parse(data_root + \"sample01_S01_L001_R1_001.fastq\", format=\"fastq\"):\n",
    "    counter+=1    \n",
    "    seqrecord1 = record\n",
    "    print(record)\n",
    "#     print(record.seq)\n",
    "#     print(type(record))\n",
    "    if counter >= 1:\n",
    "        break"
   ]
  },
  {
   "cell_type": "code",
   "execution_count": 16,
   "metadata": {},
   "outputs": [],
   "source": [
    "# for record in SeqIO.parse(data_root + \"sample01_S01_L001_R1_001.fastq\", format=\"fastq\"):\n",
    "#     counter+=1\n",
    "#     if(seqrecord1.seq == record.seq):            \n",
    "#             print(record.id)\n",
    "#     if counter > 100:\n",
    "#         break"
   ]
  },
  {
   "cell_type": "code",
   "execution_count": 17,
   "metadata": {},
   "outputs": [],
   "source": [
    "#  identifiers = [seq_record.id for seq_record in SeqIO.parse(\"ls_orchid.gbk\", \"genbank\")]\n",
    "# from Bio import SeqIO\n",
    "# orchid_dict = SeqIO.index(data_root_nb + \"sample01_S01_L001_R1_001.fastq\", \"fastq\")\n",
    "# len(orchid_dict)\n"
   ]
  },
  {
   "cell_type": "code",
   "execution_count": 37,
   "metadata": {},
   "outputs": [],
   "source": [
    "# import glob\n",
    "# from Bio import SeqIO\n",
    "# files = glob.glob(data_root + \"sample01_S01_L001_R1_001.fastq\")\n",
    "# print(\"%i files to index\" % len(files))\n",
    "\n",
    "# gb_vrl = SeqIO.index_db(\"gbvrl.idx\", files, \"genbank\")\n",
    "# print(\"%i sequences indexed\" % len(gb_vrl))\n",
    "# gb_vrl.keys"
   ]
  },
  {
   "cell_type": "code",
   "execution_count": 19,
   "metadata": {},
   "outputs": [
    {
     "name": "stdout",
     "output_type": "stream",
     "text": [
      "100001 records with total sequence length 0\n",
      "100001\n"
     ]
    }
   ],
   "source": [
    "from Bio.SeqIO.QualityIO import FastqGeneralIterator\n",
    "count = 0\n",
    "counter11=0\n",
    "total_len = 0\n",
    "cleand =[]\n",
    "with open(data_root + \"sample01_S01_L001_R1_001.fastq\") as in_handle:\n",
    "     for name, seq, qual in FastqGeneralIterator(in_handle):\n",
    "#         print(seq)\n",
    "        if seq not in  cleand:\n",
    "            cleand.append(name)           \n",
    "        count += 1\n",
    "        if count > 100000:\n",
    "            break\n",
    "\n",
    "print(\"%i records with total sequence length %i\" % (count, total_len))\n",
    "print(len(cleand))\n"
   ]
  },
  {
   "cell_type": "code",
   "execution_count": 6,
   "metadata": {},
   "outputs": [],
   "source": [
    "from Bio.Blast import NCBIWWW\n",
    "result_handle = NCBIWWW.qblast(\"blastn\", \"nt\", seqrecord1.seq)\n",
    "\n",
    "with open(data_root + \"blast/\"+ seqrecord1.id[-9:] + \".xml\", \"w\") as out_handle:\n",
    "    out_handle.write(result_handle.read())\n",
    "\n",
    "result_handle.close()\n"
   ]
  },
  {
   "cell_type": "code",
   "execution_count": 7,
   "metadata": {},
   "outputs": [],
   "source": [
    "result_handle = open(data_root + \"blast/\"+ seqrecord1.id[-9:] + \".xml\")\n",
    "from Bio.Blast import NCBIXML\n",
    "blast_record = NCBIXML.read(result_handle)\n",
    "# blast_records = NCBIXML.parse(result_handle)\n"
   ]
  },
  {
   "cell_type": "code",
   "execution_count": 8,
   "metadata": {},
   "outputs": [
    {
     "name": "stdout",
     "output_type": "stream",
     "text": [
      "****Alignment****\n",
      "sequence: gi|484574986|gb|CP005586.1| Bacillus sp. 1NLA3E, complete genome\n",
      "length: 4815602\n",
      "e value: 8.87354e-70\n",
      "CTTGTATTATCAAAGCTAACTTTAAAAGGGGAAAATCAAGGATGAATTCAAAAGATTAATTTTATTAAACATTGT...\n",
      "|||||||||||||||||||||||||||||||||||||||||||||||||||||||||||||||||||||||||||...\n",
      "CTTGTATTATCAAAGCTAACTTTAAAAGGGGAAAATCAAGGATGAATTCAAAAGATTAATTTTATTAAACATTGT...\n",
      "****Alignment****\n",
      "sequence: gi|1114629648|gb|CP016916.1| Parageobacillus thermoglucosidasius strain TM242 chromosome, complete genome\n",
      "length: 3872522\n",
      "e value: 0.000123671\n",
      "AAAAGATTAATTTTATTAAACATTGTCTTGCTTATTATATTGGTGGGTGGGGGTTTTGCCGGTTATTCTTA...\n",
      "|||||||||||| |  |||| ||| || |||| ||| || | || || || |||||||| | ||||| |||...\n",
      "AAAAGATTAATTGTGCTAAATATTATCGTGCTCATTTTACTTGTTGGCGGCGGTTTTGCTGCTTATTATTA...\n",
      "****Alignment****\n",
      "sequence: gi|1050290825|gb|CP016622.1| Parageobacillus thermoglucosidasius strain NCIMB 11955 chromosome, complete genome\n",
      "length: 3873105\n",
      "e value: 0.000123671\n",
      "AAAAGATTAATTTTATTAAACATTGTCTTGCTTATTATATTGGTGGGTGGGGGTTTTGCCGGTTATTCTTA...\n",
      "|||||||||||| |  |||| ||| || |||| ||| || | || || || |||||||| | ||||| |||...\n",
      "AAAAGATTAATTGTGCTAAATATTATCGTGCTCATTTTACTTGTTGGCGGCGGTTTTGCTGCTTATTATTA...\n",
      "****Alignment****\n",
      "sequence: gi|929558979|gb|CP012712.1| Parageobacillus thermoglucosidasius strain DSM 2542 chromosome, complete genome\n",
      "length: 3873116\n",
      "e value: 0.000123671\n",
      "AAAAGATTAATTTTATTAAACATTGTCTTGCTTATTATATTGGTGGGTGGGGGTTTTGCCGGTTATTCTTA...\n",
      "|||||||||||| |  |||| ||| || |||| ||| || | || || || |||||||| | ||||| |||...\n",
      "AAAAGATTAATTGTGCTAAATATTATCGTGCTCATTTTACTTGTTGGCGGCGGTTTTGCTGCTTATTATTA...\n",
      "****Alignment****\n",
      "sequence: gi|335360401|gb|CP002835.1| Parageobacillus thermoglucosidasius C56-YS93, complete genome\n",
      "length: 3893306\n",
      "e value: 0.000123671\n",
      "AAAAGATTAATTTTATTAAACATTGTCTTGCTTATTATATTGGTGGGTGGGGGTTTTGCCGGTTATTCTTA...\n",
      "|||||||||||| |  |||| ||| || |||| ||| || | || || || |||||||| | ||||| |||...\n",
      "AAAAGATTAATTGTGCTAAATATTATCGTGCTCATTTTACTTGTTGGCGGCGGTTTTGCTGCTTATTATTA...\n",
      "****Alignment****\n",
      "sequence: gi|311214252|gb|CP002293.1| Geobacillus sp. Y4.1MC1, complete genome\n",
      "length: 3840330\n",
      "e value: 0.000123671\n",
      "AAAAGATTAATTTTATTAAACATTGTCTTGCTTATTATATTGGTGGGTGGGGGTTTTGCCGGTTATTCTTA...\n",
      "|||||||||||| |  |||| ||| || |||| ||| || | || || || |||||||| | ||||| |||...\n",
      "AAAAGATTAATTGTGCTAAATATTATCGTGCTCATTTTACTTGTTGGCGGCGGTTTTGCTGCTTATTATTA...\n",
      "****Alignment****\n",
      "sequence: gi|1255169601|ref|XM_022787063.1| PREDICTED: Vigna radiata var. radiata boron transporter 1 (LOC106775058), transcript variant X4, mRNA\n",
      "length: 2735\n",
      "e value: 0.0183545\n",
      "TCAAAGCTAACTTTAAAAGGGGAAAATCAAGGATGAA...\n",
      "||||| |||| |||||||  |||||||||||||||||...\n",
      "TCAAACCTAATTTTAAAATTGGAAAATCAAGGATGAA...\n",
      "****Alignment****\n",
      "sequence: gi|1255169599|ref|XM_022787062.1| PREDICTED: Vigna radiata var. radiata boron transporter 1 (LOC106775058), transcript variant X3, mRNA\n",
      "length: 2437\n",
      "e value: 0.0183545\n",
      "TCAAAGCTAACTTTAAAAGGGGAAAATCAAGGATGAA...\n",
      "||||| |||| |||||||  |||||||||||||||||...\n",
      "TCAAACCTAATTTTAAAATTGGAAAATCAAGGATGAA...\n",
      "****Alignment****\n",
      "sequence: gi|1255169597|ref|XM_022787061.1| PREDICTED: Vigna radiata var. radiata boron transporter 1 (LOC106775058), transcript variant X2, mRNA\n",
      "length: 2786\n",
      "e value: 0.0183545\n",
      "TCAAAGCTAACTTTAAAAGGGGAAAATCAAGGATGAA...\n",
      "||||| |||| |||||||  |||||||||||||||||...\n",
      "TCAAACCTAATTTTAAAATTGGAAAATCAAGGATGAA...\n",
      "****Alignment****\n",
      "sequence: gi|1255169596|ref|XM_014662094.2| PREDICTED: Vigna radiata var. radiata boron transporter 1 (LOC106775058), transcript variant X1, mRNA\n",
      "length: 2524\n",
      "e value: 0.0183545\n",
      "TCAAAGCTAACTTTAAAAGGGGAAAATCAAGGATGAA...\n",
      "||||| |||| |||||||  |||||||||||||||||...\n",
      "TCAAACCTAATTTTAAAATTGGAAAATCAAGGATGAA...\n"
     ]
    }
   ],
   "source": [
    "E_VALUE_THRESH = 0.04\n",
    "for alignment in blast_record.alignments:\n",
    "    for hsp in alignment.hsps:\n",
    "        if hsp.expect < E_VALUE_THRESH:\n",
    "            print(\"****Alignment****\")\n",
    "            print(\"sequence:\", alignment.title)\n",
    "            print(\"length:\", alignment.length)\n",
    "            print(\"e value:\", hsp.expect)\n",
    "            print(hsp.query[0:75] + \"...\")\n",
    "            print(hsp.match[0:75] + \"...\")\n",
    "            print(hsp.sbjct[0:75] + \"...\")\n"
   ]
  },
  {
   "cell_type": "code",
   "execution_count": 9,
   "metadata": {},
   "outputs": [
    {
     "name": "stderr",
     "output_type": "stream",
     "text": [
      "C:\\Users\\Tigran PC\\Anaconda3\\lib\\site-packages\\Bio\\SearchIO\\__init__.py:211: BiopythonExperimentalWarning: Bio.SearchIO is an experimental submodule which may undergo significant changes prior to its future official release.\n",
      "  BiopythonExperimentalWarning)\n"
     ]
    },
    {
     "name": "stdout",
     "output_type": "stream",
     "text": [
      "Program: blastn (2.8.0+)\n",
      "  Query: No (151)\n",
      "         definition line\n",
      " Target: nt\n",
      "   Hits: ----  -----  ----------------------------------------------------------\n",
      "            #  # HSP  ID + description\n",
      "         ----  -----  ----------------------------------------------------------\n",
      "            0      1  gi|484574986|gb|CP005586.1|  Bacillus sp. 1NLA3E, compl...\n",
      "            1      1  gi|1114629648|gb|CP016916.1|  Parageobacillus thermoglu...\n",
      "            2      1  gi|1050290825|gb|CP016622.1|  Parageobacillus thermoglu...\n",
      "            3      1  gi|929558979|gb|CP012712.1|  Parageobacillus thermogluc...\n",
      "            4      1  gi|335360401|gb|CP002835.1|  Parageobacillus thermogluc...\n",
      "            5      1  gi|311214252|gb|CP002293.1|  Geobacillus sp. Y4.1MC1, c...\n",
      "            6      1  gi|1255169601|ref|XM_022787063.1|  PREDICTED: Vigna rad...\n",
      "            7      1  gi|1255169599|ref|XM_022787062.1|  PREDICTED: Vigna rad...\n",
      "            8      1  gi|1255169597|ref|XM_022787061.1|  PREDICTED: Vigna rad...\n",
      "            9      1  gi|1255169596|ref|XM_014662094.2|  PREDICTED: Vigna rad...\n",
      "           10      1  gi|1211305853|ref|XR_002470077.1|  PREDICTED: Oncorhync...\n",
      "           11      1  gi|1211305852|ref|XR_002470076.1|  PREDICTED: Oncorhync...\n",
      "           12      1  gi|1211305851|ref|XR_002470075.1|  PREDICTED: Oncorhync...\n",
      "           13      1  gi|1211305849|ref|XM_021577548.1|  PREDICTED: Oncorhync...\n",
      "           14      1  gi|1211305847|ref|XM_021577547.1|  PREDICTED: Oncorhync...\n",
      "           15      1  gi|147793987|emb|AM424225.2|  Vitis vinifera contig VV7...\n",
      "           16      1  gi|1370989792|emb|LT969577.1|  Plasmodium reichenowi ge...\n",
      "           17      1  gi|1169607782|gb|CP014176.1|  Clostridium argentinense ...\n",
      "           18      2  gi|663673442|emb|HG975443.1|  Solanum pennellii chromos...\n",
      "           19      1  gi|68131756|gb|AC158573.5|  Mus musculus chromosome 8, ...\n",
      "           20      1  gi|15418711|gb|AY007367.1|  Lycopersicon esculentum tos...\n",
      "           21      1  gi|84490519|gb|AC112948.12|  Mus musculus chromosome 8,...\n",
      "           22      1  gi|1190961621|ref|XM_002887130.2|  PREDICTED: Arabidops...\n",
      "           23      1  gi|1021453347|gb|CP015224.1|  Lysinibacillus sphaericus...\n",
      "           24      1  gi|1010942488|gb|CP014856.1|  Lysinibacillus sphaericus...\n",
      "           25      1  gi|1003321796|gb|CP014643.1|  Lysinibacillus sphaericus...\n",
      "           26      1  gi|840011120|emb|LK064725.1|  Apteryx australis mantell...\n",
      "           27      1  gi|297140795|gb|CP001791.1|  [Bacillus] selenitireducen...\n",
      "           28      1  gi|288541968|gb|CP001719.1|  Methanobrevibacter ruminan...\n",
      "           29      1  gi|239805877|gb|CP001638.1|  Geobacillus sp. WCH70, com...\n",
      "           ~~~\n",
      "           47      1  gi|1051061999|ref|XM_017797132.1|  PREDICTED: Nannospal...\n",
      "           48      1  gi|1051061997|ref|XM_017797131.1|  PREDICTED: Nannospal...\n",
      "           49      1  gi|1051061996|ref|XM_008828993.2|  PREDICTED: Nannospal...\n"
     ]
    }
   ],
   "source": [
    "from Bio import SearchIO\n",
    "last_qresult = SearchIO.read(data_root + \"blast/\"+ seqrecord1.id[-9:] + \".xml\", \"blast-xml\")\n",
    "print(last_qresult)"
   ]
  },
  {
   "cell_type": "code",
   "execution_count": 43,
   "metadata": {},
   "outputs": [
    {
     "name": "stdout",
     "output_type": "stream",
     "text": [
      "Query: No\n",
      "       definition line\n",
      "  Hit: gi|484574986|gb|CP005586.1| (4815602)\n",
      "       Bacillus sp. 1NLA3E, complete genome\n",
      " HSPs: ----  --------  ---------  ------  ---------------  ---------------------\n",
      "          #   E-value  Bit score    Span      Query range              Hit range\n",
      "       ----  --------  ---------  ------  ---------------  ---------------------\n",
      "          0   8.9e-70     273.60     151          [0:151]      [2237008:2237159]\n"
     ]
    }
   ],
   "source": [
    "print(last_qresult[0])"
   ]
  },
  {
   "cell_type": "code",
   "execution_count": 44,
   "metadata": {},
   "outputs": [],
   "source": [
    "from Bio import Entrez\n",
    "Entrez.email = \"Tigran_vardanyan@yahoo.com\"     # Always tell NCBI who you are\n",
    "handle = Entrez.einfo()\n",
    "result = handle.read()\n",
    "handle.close()"
   ]
  },
  {
   "cell_type": "code",
   "execution_count": 45,
   "metadata": {},
   "outputs": [
    {
     "name": "stdout",
     "output_type": "stream",
     "text": [
      "<?xml version=\"1.0\" encoding=\"UTF-8\" ?>\n",
      "<!DOCTYPE eInfoResult PUBLIC \"-//NLM//DTD einfo 20130322//EN\" \"https://eutils.ncbi.nlm.nih.gov/eutils/dtd/20130322/einfo.dtd\">\n",
      "<eInfoResult>\n",
      "<DbList>\n",
      "\n",
      "\t<DbName>pubmed</DbName>\n",
      "\t<DbName>protein</DbName>\n",
      "\t<DbName>nuccore</DbName>\n",
      "\t<DbName>ipg</DbName>\n",
      "\t<DbName>nucleotide</DbName>\n",
      "\t<DbName>nucgss</DbName>\n",
      "\t<DbName>nucest</DbName>\n",
      "\t<DbName>structure</DbName>\n",
      "\t<DbName>sparcle</DbName>\n",
      "\t<DbName>genome</DbName>\n",
      "\t<DbName>annotinfo</DbName>\n",
      "\t<DbName>assembly</DbName>\n",
      "\t<DbName>bioproject</DbName>\n",
      "\t<DbName>biosample</DbName>\n",
      "\t<DbName>blastdbinfo</DbName>\n",
      "\t<DbName>books</DbName>\n",
      "\t<DbName>cdd</DbName>\n",
      "\t<DbName>clinvar</DbName>\n",
      "\t<DbName>clone</DbName>\n",
      "\t<DbName>gap</DbName>\n",
      "\t<DbName>gapplus</DbName>\n",
      "\t<DbName>grasp</DbName>\n",
      "\t<DbName>dbvar</DbName>\n",
      "\t<DbName>gene</DbName>\n",
      "\t<DbName>gds</DbName>\n",
      "\t<DbName>geoprofiles</DbName>\n",
      "\t<DbName>homologene</DbName>\n",
      "\t<DbName>medgen</DbName>\n",
      "\t<DbName>mesh</DbName>\n",
      "\t<DbName>ncbisearch</DbName>\n",
      "\t<DbName>nlmcatalog</DbName>\n",
      "\t<DbName>omim</DbName>\n",
      "\t<DbName>orgtrack</DbName>\n",
      "\t<DbName>pmc</DbName>\n",
      "\t<DbName>popset</DbName>\n",
      "\t<DbName>probe</DbName>\n",
      "\t<DbName>proteinclusters</DbName>\n",
      "\t<DbName>pcassay</DbName>\n",
      "\t<DbName>biosystems</DbName>\n",
      "\t<DbName>pccompound</DbName>\n",
      "\t<DbName>pcsubstance</DbName>\n",
      "\t<DbName>pubmedhealth</DbName>\n",
      "\t<DbName>seqannot</DbName>\n",
      "\t<DbName>snp</DbName>\n",
      "\t<DbName>sra</DbName>\n",
      "\t<DbName>taxonomy</DbName>\n",
      "\t<DbName>biocollections</DbName>\n",
      "\t<DbName>unigene</DbName>\n",
      "\t<DbName>gencoll</DbName>\n",
      "\t<DbName>gtr</DbName>\n",
      "</DbList>\n",
      "\n",
      "</eInfoResult>\n",
      "\n"
     ]
    }
   ],
   "source": [
    "print(result)"
   ]
  },
  {
   "cell_type": "code",
   "execution_count": null,
   "metadata": {},
   "outputs": [],
   "source": []
  }
 ],
 "metadata": {
  "kernelspec": {
   "display_name": "Python 3",
   "language": "python",
   "name": "python3"
  },
  "language_info": {
   "codemirror_mode": {
    "name": "ipython",
    "version": 3
   },
   "file_extension": ".py",
   "mimetype": "text/x-python",
   "name": "python",
   "nbconvert_exporter": "python",
   "pygments_lexer": "ipython3",
   "version": "3.6.4"
  }
 },
 "nbformat": 4,
 "nbformat_minor": 2
}
