{
 "cells": [
  {
   "cell_type": "code",
   "execution_count": 1,
   "metadata": {},
   "outputs": [],
   "source": [
    "import numpy as np\n",
    "import itertools\n",
    "import pandas as pd \n",
    "from itertools import product\n",
    "import random\n",
    "from six.moves import cPickle as pickle\n",
    "\n",
    "import gc\n",
    "\n",
    "\n",
    "# data_root = \"C:\\\\Users\\\\Tigran PC\\\\Desktop\\\\MicrobiomicsData\\\\data\\\\\" # notebook\n",
    "# data_root = \"/Users/tigran/Desktop/sbv/data/\" # imac\n",
    "data_root = \"C:\\\\Users\\\\Administrator\\\\Repos\\\\Microbiomics\\\\data\\\\\" # server"
   ]
  },
  {
   "cell_type": "code",
   "execution_count": 2,
   "metadata": {},
   "outputs": [],
   "source": [
    "def make_sub_seq_bank(initial_string, sub_seq_len):\n",
    "    return [''.join(tup) for tup in  list(set(product(set(initial_string), repeat = sub_seq_len)))]\n",
    "\n",
    "    \n",
    "def convert_read_to_numb(dataframe, sub_str_len):\n",
    "    ss_bank =  make_sub_seq_bank(\"ATCG\", sub_str_len)\n",
    "    data_list = []\n",
    "    for seq in dataframe.values:\n",
    "        sub_seq_count = []\n",
    "        for ss in ss_bank:\n",
    "            sub_seq_count.append(seq[0].count(ss))\n",
    "        sub_seq_count.append(seq[1])      \n",
    "        data_list.append(sub_seq_count)\n",
    "    return pd.DataFrame(data_list, columns=ss_bank.append(\"lable\"))    \n"
   ]
  },
  {
   "cell_type": "code",
   "execution_count": 3,
   "metadata": {},
   "outputs": [],
   "source": [
    "df1 = pd.read_pickle(data_root + \"DNA_data1.pickle\")"
   ]
  },
  {
   "cell_type": "code",
   "execution_count": 4,
   "metadata": {},
   "outputs": [],
   "source": [
    "df2 = pd.read_pickle(data_root + \"DNA_data2.pickle\")"
   ]
  },
  {
   "cell_type": "code",
   "execution_count": 5,
   "metadata": {},
   "outputs": [
    {
     "name": "stdout",
     "output_type": "stream",
     "text": [
      "(39341870, 2)\n",
      "(39389753, 2)\n"
     ]
    },
    {
     "data": {
      "text/html": [
       "<div>\n",
       "<style scoped>\n",
       "    .dataframe tbody tr th:only-of-type {\n",
       "        vertical-align: middle;\n",
       "    }\n",
       "\n",
       "    .dataframe tbody tr th {\n",
       "        vertical-align: top;\n",
       "    }\n",
       "\n",
       "    .dataframe thead th {\n",
       "        text-align: right;\n",
       "    }\n",
       "</style>\n",
       "<table border=\"1\" class=\"dataframe\">\n",
       "  <thead>\n",
       "    <tr style=\"text-align: right;\">\n",
       "      <th></th>\n",
       "      <th>0</th>\n",
       "      <th>lable</th>\n",
       "    </tr>\n",
       "  </thead>\n",
       "  <tbody>\n",
       "    <tr>\n",
       "      <th>0</th>\n",
       "      <td>TTACGACACCTGGTCGACGGTGTACAACCAGCTCGAGGGCACTTGG...</td>\n",
       "      <td>1768</td>\n",
       "    </tr>\n",
       "    <tr>\n",
       "      <th>1</th>\n",
       "      <td>GAACGGCCGCAGCTCGTCGATCACCCCGGTCAGCGCCCGCGTCTCC...</td>\n",
       "      <td>1751294</td>\n",
       "    </tr>\n",
       "    <tr>\n",
       "      <th>2</th>\n",
       "      <td>AGCCTATATTAAATTGCTACCGCCTGAAAAACGAGGAGCGGAGAAC...</td>\n",
       "      <td>189834</td>\n",
       "    </tr>\n",
       "    <tr>\n",
       "      <th>3</th>\n",
       "      <td>TGGTATTTCTCTGTATCAAAATTGGCGTTTTGATAATAATACGGGA...</td>\n",
       "      <td>1954172</td>\n",
       "    </tr>\n",
       "    <tr>\n",
       "      <th>4</th>\n",
       "      <td>GTAAAGGTCAGTACGGCCACGTGGTCTTCACGCTCGAACCATTGCC...</td>\n",
       "      <td>741091</td>\n",
       "    </tr>\n",
       "  </tbody>\n",
       "</table>\n",
       "</div>"
      ],
      "text/plain": [
       "                                                   0    lable\n",
       "0  TTACGACACCTGGTCGACGGTGTACAACCAGCTCGAGGGCACTTGG...     1768\n",
       "1  GAACGGCCGCAGCTCGTCGATCACCCCGGTCAGCGCCCGCGTCTCC...  1751294\n",
       "2  AGCCTATATTAAATTGCTACCGCCTGAAAAACGAGGAGCGGAGAAC...   189834\n",
       "3  TGGTATTTCTCTGTATCAAAATTGGCGTTTTGATAATAATACGGGA...  1954172\n",
       "4  GTAAAGGTCAGTACGGCCACGTGGTCTTCACGCTCGAACCATTGCC...   741091"
      ]
     },
     "execution_count": 5,
     "metadata": {},
     "output_type": "execute_result"
    }
   ],
   "source": [
    "print(df1.shape)\n",
    "print(df2.shape)\n",
    "df = pd.concat([df1, df2]) \n",
    "del df1, df2\n",
    "df.head()"
   ]
  },
  {
   "cell_type": "code",
   "execution_count": 6,
   "metadata": {},
   "outputs": [
    {
     "name": "stdout",
     "output_type": "stream",
     "text": [
      "(78731623, 2)\n"
     ]
    },
    {
     "data": {
      "text/html": [
       "<div>\n",
       "<style scoped>\n",
       "    .dataframe tbody tr th:only-of-type {\n",
       "        vertical-align: middle;\n",
       "    }\n",
       "\n",
       "    .dataframe tbody tr th {\n",
       "        vertical-align: top;\n",
       "    }\n",
       "\n",
       "    .dataframe thead th {\n",
       "        text-align: right;\n",
       "    }\n",
       "</style>\n",
       "<table border=\"1\" class=\"dataframe\">\n",
       "  <thead>\n",
       "    <tr style=\"text-align: right;\">\n",
       "      <th></th>\n",
       "      <th>0</th>\n",
       "      <th>lable</th>\n",
       "    </tr>\n",
       "  </thead>\n",
       "  <tbody>\n",
       "    <tr>\n",
       "      <th>0</th>\n",
       "      <td>TTACGACACCTGGTCGACGGTGTACAACCAGCTCGAGGGCACTTGG...</td>\n",
       "      <td>1768</td>\n",
       "    </tr>\n",
       "    <tr>\n",
       "      <th>1</th>\n",
       "      <td>GAACGGCCGCAGCTCGTCGATCACCCCGGTCAGCGCCCGCGTCTCC...</td>\n",
       "      <td>1751294</td>\n",
       "    </tr>\n",
       "    <tr>\n",
       "      <th>2</th>\n",
       "      <td>AGCCTATATTAAATTGCTACCGCCTGAAAAACGAGGAGCGGAGAAC...</td>\n",
       "      <td>189834</td>\n",
       "    </tr>\n",
       "    <tr>\n",
       "      <th>3</th>\n",
       "      <td>TGGTATTTCTCTGTATCAAAATTGGCGTTTTGATAATAATACGGGA...</td>\n",
       "      <td>1954172</td>\n",
       "    </tr>\n",
       "    <tr>\n",
       "      <th>4</th>\n",
       "      <td>GTAAAGGTCAGTACGGCCACGTGGTCTTCACGCTCGAACCATTGCC...</td>\n",
       "      <td>741091</td>\n",
       "    </tr>\n",
       "  </tbody>\n",
       "</table>\n",
       "</div>"
      ],
      "text/plain": [
       "                                                   0    lable\n",
       "0  TTACGACACCTGGTCGACGGTGTACAACCAGCTCGAGGGCACTTGG...     1768\n",
       "1  GAACGGCCGCAGCTCGTCGATCACCCCGGTCAGCGCCCGCGTCTCC...  1751294\n",
       "2  AGCCTATATTAAATTGCTACCGCCTGAAAAACGAGGAGCGGAGAAC...   189834\n",
       "3  TGGTATTTCTCTGTATCAAAATTGGCGTTTTGATAATAATACGGGA...  1954172\n",
       "4  GTAAAGGTCAGTACGGCCACGTGGTCTTCACGCTCGAACCATTGCC...   741091"
      ]
     },
     "execution_count": 6,
     "metadata": {},
     "output_type": "execute_result"
    }
   ],
   "source": [
    "print(df.shape)\n",
    "df.head()"
   ]
  },
  {
   "cell_type": "code",
   "execution_count": 25,
   "metadata": {},
   "outputs": [],
   "source": [
    "step = 60000000"
   ]
  },
  {
   "cell_type": "code",
   "execution_count": 26,
   "metadata": {},
   "outputs": [],
   "source": [
    "df_s = pd.DataFrame(df.values[50000000:step, :])"
   ]
  },
  {
   "cell_type": "code",
   "execution_count": 27,
   "metadata": {},
   "outputs": [
    {
     "data": {
      "text/html": [
       "<div>\n",
       "<style scoped>\n",
       "    .dataframe tbody tr th:only-of-type {\n",
       "        vertical-align: middle;\n",
       "    }\n",
       "\n",
       "    .dataframe tbody tr th {\n",
       "        vertical-align: top;\n",
       "    }\n",
       "\n",
       "    .dataframe thead th {\n",
       "        text-align: right;\n",
       "    }\n",
       "</style>\n",
       "<table border=\"1\" class=\"dataframe\">\n",
       "  <thead>\n",
       "    <tr style=\"text-align: right;\">\n",
       "      <th></th>\n",
       "      <th>0</th>\n",
       "      <th>1</th>\n",
       "    </tr>\n",
       "  </thead>\n",
       "  <tbody>\n",
       "    <tr>\n",
       "      <th>0</th>\n",
       "      <td>TGTAAGATGAAGGAAGTGGTAAAATGGATGGTAATCATTACCGCGA...</td>\n",
       "      <td>1156431</td>\n",
       "    </tr>\n",
       "    <tr>\n",
       "      <th>1</th>\n",
       "      <td>ATCCTCCTATATCCTGAAAAAGTTATTTGGGATGTGGGCGGTTTGC...</td>\n",
       "      <td>1408</td>\n",
       "    </tr>\n",
       "    <tr>\n",
       "      <th>2</th>\n",
       "      <td>AAACTATTAATATCGCTGTTTCTCCAGAATACAAAAAGATTGTTTC...</td>\n",
       "      <td>313598</td>\n",
       "    </tr>\n",
       "    <tr>\n",
       "      <th>3</th>\n",
       "      <td>CCCCAGAGATCTACTCCGAGATGATCGACCGCGCTAAGACGGGCGG...</td>\n",
       "      <td>1849032</td>\n",
       "    </tr>\n",
       "    <tr>\n",
       "      <th>4</th>\n",
       "      <td>GGTGGGATTGTCCCGAGCAACCTTCTTCGCGGCATGTGCGCGAAGG...</td>\n",
       "      <td>161895</td>\n",
       "    </tr>\n",
       "  </tbody>\n",
       "</table>\n",
       "</div>"
      ],
      "text/plain": [
       "                                                   0        1\n",
       "0  TGTAAGATGAAGGAAGTGGTAAAATGGATGGTAATCATTACCGCGA...  1156431\n",
       "1  ATCCTCCTATATCCTGAAAAAGTTATTTGGGATGTGGGCGGTTTGC...     1408\n",
       "2  AAACTATTAATATCGCTGTTTCTCCAGAATACAAAAAGATTGTTTC...   313598\n",
       "3  CCCCAGAGATCTACTCCGAGATGATCGACCGCGCTAAGACGGGCGG...  1849032\n",
       "4  GGTGGGATTGTCCCGAGCAACCTTCTTCGCGGCATGTGCGCGAAGG...   161895"
      ]
     },
     "execution_count": 27,
     "metadata": {},
     "output_type": "execute_result"
    }
   ],
   "source": [
    "df_s.head()"
   ]
  },
  {
   "cell_type": "markdown",
   "metadata": {},
   "source": [
    "### Convert to numbers"
   ]
  },
  {
   "cell_type": "code",
   "execution_count": 28,
   "metadata": {
    "scrolled": true
   },
   "outputs": [
    {
     "data": {
      "text/plain": [
       "(10000000, 2)"
      ]
     },
     "execution_count": 28,
     "metadata": {},
     "output_type": "execute_result"
    }
   ],
   "source": [
    "gc.collect()\n",
    "df_s.shape"
   ]
  },
  {
   "cell_type": "code",
   "execution_count": null,
   "metadata": {},
   "outputs": [],
   "source": [
    "%time df_s =  convert_read_to_numb(df_s, 4) "
   ]
  },
  {
   "cell_type": "code",
   "execution_count": null,
   "metadata": {},
   "outputs": [],
   "source": [
    "df_s.head(10)"
   ]
  },
  {
   "cell_type": "code",
   "execution_count": null,
   "metadata": {},
   "outputs": [],
   "source": [
    "columns = list(df_s.columns.values)\n",
    "print(type(columns))\n",
    "df_s = df_s.sample(frac=1).reset_index(drop=True)\n",
    "print(df_s.shape)\n",
    "df_s = df_s.drop_duplicates(subset=columns[:-1])\n",
    "print(df_s.shape)"
   ]
  },
  {
   "cell_type": "code",
   "execution_count": null,
   "metadata": {},
   "outputs": [],
   "source": [
    "df_s.tail()"
   ]
  },
  {
   "cell_type": "code",
   "execution_count": null,
   "metadata": {},
   "outputs": [],
   "source": [
    "pickle_file = data_root + \"F_Bank_6.pickle\"\n",
    "\n",
    "try:   \n",
    "    f = open(pickle_file, 'wb')\n",
    "    pickle.dump(df_s, f, pickle.HIGHEST_PROTOCOL)\n",
    "    f.close()\n",
    "except Exception as e:\n",
    "    print('Unable to save data to', pickle_file, ':', e)\n",
    "    raise"
   ]
  },
  {
   "cell_type": "code",
   "execution_count": null,
   "metadata": {},
   "outputs": [],
   "source": []
  }
 ],
 "metadata": {
  "kernelspec": {
   "display_name": "Python 3",
   "language": "python",
   "name": "python3"
  },
  "language_info": {
   "codemirror_mode": {
    "name": "ipython",
    "version": 3
   },
   "file_extension": ".py",
   "mimetype": "text/x-python",
   "name": "python",
   "nbconvert_exporter": "python",
   "pygments_lexer": "ipython3",
   "version": "3.6.5"
  }
 },
 "nbformat": 4,
 "nbformat_minor": 2
}
