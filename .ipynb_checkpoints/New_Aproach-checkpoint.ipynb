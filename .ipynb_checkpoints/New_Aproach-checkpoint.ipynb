{
 "cells": [
  {
   "cell_type": "code",
   "execution_count": 1,
   "metadata": {},
   "outputs": [],
   "source": [
    "import Bio\n",
    "from Bio import SeqIO\n",
    "import numpy as np\n",
    "from sklearn.metrics import accuracy_score, confusion_matrix\n",
    "import matplotlib.pyplot as plt\n",
    "import itertools\n",
    "import pandas as pd \n",
    "from sklearn import svm\n",
    "from sklearn.model_selection import train_test_split\n",
    "from sklearn.ensemble import RandomForestClassifier\n",
    "from itertools import product\n",
    "import random\n",
    "from six.moves import cPickle as pickle\n",
    "import xgboost as xgb\n",
    "from Bio.SeqIO.FastaIO import SimpleFastaParser\n",
    "import gc\n",
    "\n",
    "\n",
    "# data_root = \"C:\\\\Users\\\\Tigran PC\\\\Desktop\\\\MicrobiomicsData\\\\data\\\\\" # notebook\n",
    "# data_root = \"/Users/tigran/Desktop/sbv/data/\" # imac\n",
    "data_root = \"C:\\\\Users\\\\Administrator\\\\Repos\\\\Microbiomics\\\\data\\\\\" # server\n",
    "\n",
    "sub_data_root = data_root + \"sample01split/\""
   ]
  },
  {
   "cell_type": "code",
   "execution_count": 126,
   "metadata": {},
   "outputs": [],
   "source": [
    "def random_cut(full_seq, sub_seq_len, overlap_coef):\n",
    "    cut_indexes = random.sample(range(0, len(full_seq)-sub_seq_len), int(overlap_coef * (len(full_seq))/sub_seq_len))\n",
    "    seq_list = np.array([full_seq[i:i+sub_seq_len] for i in cut_indexes])\n",
    "    seq_list = [k for k in seq_list if 'N'*15 not in k]\n",
    "    return seq_list\n",
    "    \n",
    "    \n",
    "def make_arrays(nb_rows, nb_features):\n",
    "    if nb_rows:\n",
    "        dataset = np.ndarray((nb_rows, nb_features), dtype=np.float32)\n",
    "    else:\n",
    "        dataset, labels = None, None\n",
    "    return dataset\n",
    "\n",
    "def make_features(seq_list, sub_seq_bank):\n",
    "    features_list  = make_arrays(len(seq_list), len(sub_seq_bank))\n",
    "    for i, seq in enumerate(seq_list):    \n",
    "        sub_seq_count = []\n",
    "        for sub_seq in sub_seq_bank:\n",
    "            sub_seq_count.append(seq.count(sub_seq))\n",
    "        features_list[i] = sub_seq_count\n",
    "    return features_list\n",
    "\n",
    "def make_features2(seq_list, sub_seq_bank):\n",
    "    features_list = make_arrays(len(sub_seq_bank), len(seq_list))\n",
    "    for i, ss in enumerate(sub_seq_bank):   \n",
    "        tmp = np.char.count(seq_list, ss)\n",
    "        features_list[i] = tmp\n",
    "    return features_list.T\n",
    "\n",
    "def make_data_frame(features, lable):\n",
    "    df = pd.DataFrame(features)\n",
    "    df['lable'] = lable    \n",
    "    return df\n",
    "\n",
    "def make_sub_seq_bank(initial_string, sub_seq_len):\n",
    "    return [''.join(tup) for tup in  list(set(product(set(initial_string), repeat = sub_seq_len)))]\n",
    "   \n",
    "    \n",
    "def make_data_from_long_seq_list(long_seq_list):\n",
    "    df_list = []\n",
    "    sub_seq_bank = make_sub_seq_bank('ACTG', 6)\n",
    "    for i, long_seq in enumerate(long_seq_list):\n",
    "        seq_list = random_cut(long_seq, 151, 1)\n",
    "        df_tmp = make_data_frame(make_features(seq_list, sub_seq_bank), i)\n",
    "        df_list.append(df_tmp)\n",
    "    return pd.concat(df_list)\n",
    "\n",
    "    \n",
    "    \n"
   ]
  },
  {
   "cell_type": "code",
   "execution_count": 123,
   "metadata": {
    "scrolled": true
   },
   "outputs": [],
   "source": [
    "data_dict = pd.read_pickle(data_root + \"RefDB.pickle\")"
   ]
  },
  {
   "cell_type": "code",
   "execution_count": 4,
   "metadata": {},
   "outputs": [],
   "source": [
    "gc.collect()\n",
    "keys = list(data_dict.keys())"
   ]
  },
  {
   "cell_type": "code",
   "execution_count": 5,
   "metadata": {},
   "outputs": [
    {
     "data": {
      "text/plain": [
       "6706898"
      ]
     },
     "execution_count": 5,
     "metadata": {},
     "output_type": "execute_result"
    }
   ],
   "source": [
    "len(data_dict[\"60552\"])"
   ]
  },
  {
   "cell_type": "code",
   "execution_count": 93,
   "metadata": {},
   "outputs": [
    {
     "data": {
      "text/plain": [
       "6622"
      ]
     },
     "execution_count": 93,
     "metadata": {},
     "output_type": "execute_result"
    }
   ],
   "source": [
    "sgs = random_cut(data_dict[\"60552\"][:1000000], 151, 1)\n",
    "len(sgs)"
   ]
  },
  {
   "cell_type": "code",
   "execution_count": 124,
   "metadata": {},
   "outputs": [
    {
     "name": "stdout",
     "output_type": "stream",
     "text": [
      "Wall time: 1.45 s\n"
     ]
    }
   ],
   "source": [
    "sub_seq_bank = make_sub_seq_bank('ACTG', 4)\n",
    "%time f = make_features(sgs, sub_seq_bank)"
   ]
  },
  {
   "cell_type": "code",
   "execution_count": 127,
   "metadata": {},
   "outputs": [
    {
     "name": "stdout",
     "output_type": "stream",
     "text": [
      "Wall time: 5.81 s\n"
     ]
    }
   ],
   "source": [
    "sub_seq_bank = make_sub_seq_bank('ACTG', 4)\n",
    "%time f2 = make_features2(sgs, sub_seq_bank)"
   ]
  },
  {
   "cell_type": "code",
   "execution_count": 128,
   "metadata": {},
   "outputs": [
    {
     "data": {
      "text/plain": [
       "array([[0., 0., 0., ..., 0., 0., 0.],\n",
       "       [0., 1., 0., ..., 0., 0., 0.],\n",
       "       [0., 0., 1., ..., 0., 0., 0.],\n",
       "       [0., 1., 0., ..., 0., 0., 0.],\n",
       "       [0., 0., 0., ..., 0., 0., 1.]], dtype=float32)"
      ]
     },
     "execution_count": 128,
     "metadata": {},
     "output_type": "execute_result"
    }
   ],
   "source": [
    "f[:5]"
   ]
  },
  {
   "cell_type": "code",
   "execution_count": 129,
   "metadata": {},
   "outputs": [
    {
     "data": {
      "text/plain": [
       "array([[0., 0., 0., ..., 0., 0., 0.],\n",
       "       [0., 1., 0., ..., 0., 0., 0.],\n",
       "       [0., 0., 1., ..., 0., 0., 0.],\n",
       "       [0., 1., 0., ..., 0., 0., 0.],\n",
       "       [0., 0., 0., ..., 0., 0., 1.]], dtype=float32)"
      ]
     },
     "execution_count": 129,
     "metadata": {},
     "output_type": "execute_result"
    }
   ],
   "source": [
    "f2[:5]"
   ]
  },
  {
   "cell_type": "code",
   "execution_count": 87,
   "metadata": {},
   "outputs": [],
   "source": [
    "# dat = np.array([[\"abataababataac\", \"A\"], [\"aaababaaac\", \"B\"]])\n",
    "# l = [\"ab\", \"at\", \"bat\"]\n",
    "# c = dat[:, :-1]\n",
    "# lab = dat[:, -1]\n",
    "# print(c)\n",
    "# print(lab)\n",
    "# result_array = np.empty((0, c.shape[0]))\n",
    "\n",
    "# for line in l:\n",
    "#     result_array = np.append(result_array, [np.char.count(list(c), line)], axis=0)\n",
    "# for item in c:\n",
    "#     for x in l:\n",
    "#         print(np.char.count(item[0], x))"
   ]
  },
  {
   "cell_type": "code",
   "execution_count": 121,
   "metadata": {},
   "outputs": [
    {
     "name": "stdout",
     "output_type": "stream",
     "text": [
      "[[3. 2.]\n",
      " [2. 0.]\n",
      " [2. 0.]]\n"
     ]
    },
    {
     "data": {
      "text/plain": [
       "array([[3., 2., 2.],\n",
       "       [2., 0., 0.]], dtype=float32)"
      ]
     },
     "execution_count": 121,
     "metadata": {},
     "output_type": "execute_result"
    }
   ],
   "source": [
    "seq_list = [\"abataababataac\", \"aaababaaac\"]\n",
    "sub_seq_bank = [\"ab\", \"at\", \"bat\"]\n",
    "    \n",
    "features_list = make_arrays(len(sub_seq_bank), len(seq_list))\n",
    "print(features_list)\n",
    "for i, ss in enumerate(sub_seq_bank):   \n",
    "    tmp = np.char.count(seq_list, ss)\n",
    "    features_list[i] = tmp\n",
    "\n",
    "features_list.T"
   ]
  },
  {
   "cell_type": "code",
   "execution_count": null,
   "metadata": {},
   "outputs": [],
   "source": [
    "features_list.T"
   ]
  },
  {
   "cell_type": "code",
   "execution_count": 113,
   "metadata": {},
   "outputs": [
    {
     "data": {
      "text/plain": [
       "array([[2.8025969e-45, 0.0000000e+00],\n",
       "       [1.5957907e+35, 4.5912143e-41],\n",
       "       [1.5896655e+35, 4.5912143e-41]], dtype=float32)"
      ]
     },
     "execution_count": 113,
     "metadata": {},
     "output_type": "execute_result"
    }
   ],
   "source": [
    "features_list"
   ]
  },
  {
   "cell_type": "code",
   "execution_count": null,
   "metadata": {},
   "outputs": [],
   "source": []
  }
 ],
 "metadata": {
  "kernelspec": {
   "display_name": "Python 3",
   "language": "python",
   "name": "python3"
  },
  "language_info": {
   "codemirror_mode": {
    "name": "ipython",
    "version": 3
   },
   "file_extension": ".py",
   "mimetype": "text/x-python",
   "name": "python",
   "nbconvert_exporter": "python",
   "pygments_lexer": "ipython3",
   "version": "3.6.5"
  }
 },
 "nbformat": 4,
 "nbformat_minor": 2
}
