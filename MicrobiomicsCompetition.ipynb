{
 "cells": [
  {
   "cell_type": "code",
   "execution_count": 19,
   "metadata": {},
   "outputs": [],
   "source": [
    "import Bio\n",
    "from Bio import SeqIO\n",
    "from Bio.Blast import NCBIWWW\n",
    "data_root_nb = \"C:\\\\Users\\\\Tigran PC\\\\Desktop\\\\MicrobiomicsData\\\\data\\\\\"\n",
    "data_root_imac = \"C:\\\\Users\\\\Tigran PC\\\\Desktop\\\\MicrobiomicsData\\\\data\\\\\"\n",
    "data_root_istc_pc = \"D:\\\\\""
   ]
  },
  {
   "cell_type": "code",
   "execution_count": 22,
   "metadata": {},
   "outputs": [
    {
     "name": "stdout",
     "output_type": "stream",
     "text": [
      "X00001:01:XXXXXXXXX:0:0000:0000:000000001\n",
      "CTTGTATTATCAAAGCTAACTTTAAAAGGGGAAAATCAAGGATGAATTCAAAAGATTAATTTTATTAAACATTGTCTTGCTTATTATATTGGTGGGTGGGGGTTTTGCCGGTTATTCTTACTACAACCGCACGATCAATTACTTATCAACT\n",
      "<class 'Bio.SeqRecord.SeqRecord'>\n"
     ]
    }
   ],
   "source": [
    "counter = 0\n",
    "seqrecord1=0\n",
    "for record in SeqIO.parse(data_root_nb + \"sample01_S01_L001_R1_001.fastq\", format=\"fastq\"):\n",
    "    counter+=1    \n",
    "    seqrecord1 = record\n",
    "    print(record.id)\n",
    "    print(record.seq)\n",
    "    print(type(record))\n",
    "    if counter >= 1:\n",
    "        break"
   ]
  },
  {
   "cell_type": "code",
   "execution_count": 23,
   "metadata": {},
   "outputs": [],
   "source": [
    "# for record in SeqIO.parse(data_root_nb + \"sample01_S01_L001_R1_001.fastq\", format=\"fastq\"):\n",
    "#     counter+=1\n",
    "#     if(seqrecord1.seq == record.seq):            \n",
    "#             print(record.id)\n",
    "#     if counter > 100:\n",
    "#         break"
   ]
  },
  {
   "cell_type": "code",
   "execution_count": 24,
   "metadata": {},
   "outputs": [],
   "source": [
    "#  identifiers = [seq_record.id for seq_record in SeqIO.parse(\"ls_orchid.gbk\", \"genbank\")]\n",
    "# from Bio import SeqIO\n",
    "# orchid_dict = SeqIO.index(data_root_nb + \"sample01_S01_L001_R1_001.fastq\", \"fastq\")\n",
    "# len(orchid_dict)\n"
   ]
  },
  {
   "cell_type": "code",
   "execution_count": 25,
   "metadata": {},
   "outputs": [],
   "source": [
    "# import glob\n",
    "# from Bio import SeqIO\n",
    "# files = glob.glob(data_root_nb + \"sample01_S01_L001_R1_001.fastq\")\n",
    "# print(\"%i files to index\" % len(files))\n",
    "\n",
    "# gb_vrl = SeqIO.index_db(\"gbvrl.idx\", files, \"genbank\")\n",
    "# print(\"%i sequences indexed\" % len(gb_vrl))\n",
    "# gb_vrl.keys"
   ]
  },
  {
   "cell_type": "code",
   "execution_count": 41,
   "metadata": {},
   "outputs": [],
   "source": [
    "# from Bio.SeqIO.QualityIO import FastqGeneralIterator\n",
    "# count = 0\n",
    "# counter11=0\n",
    "# total_len = 0\n",
    "# with open(data_root_nb + \"sample01_S01_L001_R1_001.fastq\") as in_handle:\n",
    "#      for title, seq, qual in FastqGeneralIterator(in_handle):\n",
    "#         if(seqrecord1.seq == seq):\n",
    "#             counter11+=1\n",
    "#             print(seq)\n",
    "#         count += 1\n",
    "#         total_len += len(seq)\n",
    "#         if count > 10000000:\n",
    "#             break\n",
    "\n",
    "# print(\"%i records with total sequence length %i\" % (count, total_len))\n",
    "# print(counter11)\n"
   ]
  },
  {
   "cell_type": "code",
   "execution_count": 35,
   "metadata": {},
   "outputs": [],
   "source": [
    "from Bio.Blast import NCBIWWW\n",
    "result_handle = NCBIWWW.qblast(\"blastn\", \"nt\", seqrecord1.seq)\n",
    "\n",
    "with open(data_root_nb + \"blast\\\\\"+ seqrecord1.id[-9:] + \".xml\", \"w\") as out_handle:\n",
    "    out_handle.write(result_handle.read())\n",
    "\n",
    "result_handle.close()\n"
   ]
  },
  {
   "cell_type": "code",
   "execution_count": 37,
   "metadata": {},
   "outputs": [
    {
     "name": "stdout",
     "output_type": "stream",
     "text": [
      "<Bio.Blast.Record.Blast object at 0x000001D362CA9DA0>\n"
     ]
    }
   ],
   "source": [
    "result_handle = open(data_root_nb + \"blast\\\\\"+ seqrecord1.id[-9:] + \".xml\")\n",
    "from Bio.Blast import NCBIXML\n",
    "blast_record = NCBIXML.read(result_handle)\n",
    "# blast_records = NCBIXML.parse(result_handle)\n"
   ]
  },
  {
   "cell_type": "code",
   "execution_count": 40,
   "metadata": {},
   "outputs": [
    {
     "name": "stdout",
     "output_type": "stream",
     "text": [
      "****Alignment****\n",
      "sequence: gi|484574986|gb|CP005586.1| Bacillus sp. 1NLA3E, complete genome\n",
      "length: 4815602\n",
      "e value: 8.87354e-70\n",
      "CTTGTATTATCAAAGCTAACTTTAAAAGGGGAAAATCAAGGATGAATTCAAAAGATTAATTTTATTAAACATTGT...\n",
      "|||||||||||||||||||||||||||||||||||||||||||||||||||||||||||||||||||||||||||...\n",
      "CTTGTATTATCAAAGCTAACTTTAAAAGGGGAAAATCAAGGATGAATTCAAAAGATTAATTTTATTAAACATTGT...\n",
      "****Alignment****\n",
      "sequence: gi|1114629648|gb|CP016916.1| Parageobacillus thermoglucosidasius strain TM242 chromosome, complete genome\n",
      "length: 3872522\n",
      "e value: 0.000123671\n",
      "AAAAGATTAATTTTATTAAACATTGTCTTGCTTATTATATTGGTGGGTGGGGGTTTTGCCGGTTATTCTTA...\n",
      "|||||||||||| |  |||| ||| || |||| ||| || | || || || |||||||| | ||||| |||...\n",
      "AAAAGATTAATTGTGCTAAATATTATCGTGCTCATTTTACTTGTTGGCGGCGGTTTTGCTGCTTATTATTA...\n",
      "****Alignment****\n",
      "sequence: gi|1050290825|gb|CP016622.1| Parageobacillus thermoglucosidasius strain NCIMB 11955 chromosome, complete genome\n",
      "length: 3873105\n",
      "e value: 0.000123671\n",
      "AAAAGATTAATTTTATTAAACATTGTCTTGCTTATTATATTGGTGGGTGGGGGTTTTGCCGGTTATTCTTA...\n",
      "|||||||||||| |  |||| ||| || |||| ||| || | || || || |||||||| | ||||| |||...\n",
      "AAAAGATTAATTGTGCTAAATATTATCGTGCTCATTTTACTTGTTGGCGGCGGTTTTGCTGCTTATTATTA...\n",
      "****Alignment****\n",
      "sequence: gi|929558979|gb|CP012712.1| Parageobacillus thermoglucosidasius strain DSM 2542 chromosome, complete genome\n",
      "length: 3873116\n",
      "e value: 0.000123671\n",
      "AAAAGATTAATTTTATTAAACATTGTCTTGCTTATTATATTGGTGGGTGGGGGTTTTGCCGGTTATTCTTA...\n",
      "|||||||||||| |  |||| ||| || |||| ||| || | || || || |||||||| | ||||| |||...\n",
      "AAAAGATTAATTGTGCTAAATATTATCGTGCTCATTTTACTTGTTGGCGGCGGTTTTGCTGCTTATTATTA...\n",
      "****Alignment****\n",
      "sequence: gi|335360401|gb|CP002835.1| Parageobacillus thermoglucosidasius C56-YS93, complete genome\n",
      "length: 3893306\n",
      "e value: 0.000123671\n",
      "AAAAGATTAATTTTATTAAACATTGTCTTGCTTATTATATTGGTGGGTGGGGGTTTTGCCGGTTATTCTTA...\n",
      "|||||||||||| |  |||| ||| || |||| ||| || | || || || |||||||| | ||||| |||...\n",
      "AAAAGATTAATTGTGCTAAATATTATCGTGCTCATTTTACTTGTTGGCGGCGGTTTTGCTGCTTATTATTA...\n",
      "****Alignment****\n",
      "sequence: gi|311214252|gb|CP002293.1| Geobacillus sp. Y4.1MC1, complete genome\n",
      "length: 3840330\n",
      "e value: 0.000123671\n",
      "AAAAGATTAATTTTATTAAACATTGTCTTGCTTATTATATTGGTGGGTGGGGGTTTTGCCGGTTATTCTTA...\n",
      "|||||||||||| |  |||| ||| || |||| ||| || | || || || |||||||| | ||||| |||...\n",
      "AAAAGATTAATTGTGCTAAATATTATCGTGCTCATTTTACTTGTTGGCGGCGGTTTTGCTGCTTATTATTA...\n",
      "****Alignment****\n",
      "sequence: gi|1255169601|ref|XM_022787063.1| PREDICTED: Vigna radiata var. radiata boron transporter 1 (LOC106775058), transcript variant X4, mRNA\n",
      "length: 2735\n",
      "e value: 0.0183545\n",
      "TCAAAGCTAACTTTAAAAGGGGAAAATCAAGGATGAA...\n",
      "||||| |||| |||||||  |||||||||||||||||...\n",
      "TCAAACCTAATTTTAAAATTGGAAAATCAAGGATGAA...\n",
      "****Alignment****\n",
      "sequence: gi|1255169599|ref|XM_022787062.1| PREDICTED: Vigna radiata var. radiata boron transporter 1 (LOC106775058), transcript variant X3, mRNA\n",
      "length: 2437\n",
      "e value: 0.0183545\n",
      "TCAAAGCTAACTTTAAAAGGGGAAAATCAAGGATGAA...\n",
      "||||| |||| |||||||  |||||||||||||||||...\n",
      "TCAAACCTAATTTTAAAATTGGAAAATCAAGGATGAA...\n",
      "****Alignment****\n",
      "sequence: gi|1255169597|ref|XM_022787061.1| PREDICTED: Vigna radiata var. radiata boron transporter 1 (LOC106775058), transcript variant X2, mRNA\n",
      "length: 2786\n",
      "e value: 0.0183545\n",
      "TCAAAGCTAACTTTAAAAGGGGAAAATCAAGGATGAA...\n",
      "||||| |||| |||||||  |||||||||||||||||...\n",
      "TCAAACCTAATTTTAAAATTGGAAAATCAAGGATGAA...\n",
      "****Alignment****\n",
      "sequence: gi|1255169596|ref|XM_014662094.2| PREDICTED: Vigna radiata var. radiata boron transporter 1 (LOC106775058), transcript variant X1, mRNA\n",
      "length: 2524\n",
      "e value: 0.0183545\n",
      "TCAAAGCTAACTTTAAAAGGGGAAAATCAAGGATGAA...\n",
      "||||| |||| |||||||  |||||||||||||||||...\n",
      "TCAAACCTAATTTTAAAATTGGAAAATCAAGGATGAA...\n"
     ]
    }
   ],
   "source": [
    "E_VALUE_THRESH = 0.04\n",
    "for alignment in blast_record.alignments:\n",
    "    for hsp in alignment.hsps:\n",
    "        if hsp.expect < E_VALUE_THRESH:\n",
    "            print(\"****Alignment****\")\n",
    "            print(\"sequence:\", alignment.title)\n",
    "            print(\"length:\", alignment.length)\n",
    "            print(\"e value:\", hsp.expect)\n",
    "            print(hsp.query[0:75] + \"...\")\n",
    "            print(hsp.match[0:75] + \"...\")\n",
    "            print(hsp.sbjct[0:75] + \"...\")\n"
   ]
  },
  {
   "cell_type": "code",
   "execution_count": null,
   "metadata": {},
   "outputs": [],
   "source": [
    "from Bio.Blast import NCBIWWW\n",
    "result_handle = NCBIWWW.qblast(\"blastn\", \"nt\", seqrecord1.seq)\n",
    "\n",
    "with open(data_root_nb + \"blast\\\\\"+ seqrecord1.id[-9:] + \".xml\", \"w\") as out_handle:\n",
    "    out_handle.write(result_handle.read())\n",
    "\n",
    "result_handle.close()"
   ]
  }
 ],
 "metadata": {
  "kernelspec": {
   "display_name": "Python 3",
   "language": "python",
   "name": "python3"
  },
  "language_info": {
   "codemirror_mode": {
    "name": "ipython",
    "version": 3
   },
   "file_extension": ".py",
   "mimetype": "text/x-python",
   "name": "python",
   "nbconvert_exporter": "python",
   "pygments_lexer": "ipython3",
   "version": "3.6.4"
  }
 },
 "nbformat": 4,
 "nbformat_minor": 2
}
