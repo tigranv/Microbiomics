{
 "cells": [
  {
   "cell_type": "code",
   "execution_count": 1,
   "metadata": {},
   "outputs": [],
   "source": [
    "import Bio\n",
    "from Bio import SeqIO\n",
    "import numpy as np\n",
    "from sklearn.metrics import accuracy_score, confusion_matrix\n",
    "import matplotlib.pyplot as plt\n",
    "import itertools\n",
    "import pandas as pd \n",
    "from sklearn import svm\n",
    "from sklearn.model_selection import train_test_split\n",
    "from sklearn.ensemble import RandomForestClassifier\n",
    "from itertools import product\n",
    "import random\n",
    "from six.moves import cPickle as pickle\n",
    "import xgboost as xgb\n",
    "from Bio.SeqIO.FastaIO import SimpleFastaParser\n",
    "from joblib import Parallel, delayed\n",
    "import gc\n",
    "from multiprocessing.dummy import Pool as ThreadPool\n",
    "\n",
    "# data_root = \"C:\\\\Users\\\\Tigran PC\\\\Desktop\\\\MicrobiomicsData\\\\data\\\\\" # notebook\n",
    "# data_root = \"/Users/tigran/Desktop/sbv/data/\" # imac\n",
    "data_root = \"C:\\\\Users\\\\Administrator\\\\Repos\\\\Microbiomics\\\\data\\\\\" # server\n",
    "\n",
    "sub_data_root = data_root + \"sample01split/\""
   ]
  },
  {
   "cell_type": "code",
   "execution_count": 2,
   "metadata": {},
   "outputs": [],
   "source": [
    "def make_sub_seq_bank(initial_string, sub_seq_len):\n",
    "    return [''.join(tup) for tup in  list(set(product(set(initial_string), repeat = sub_seq_len)))]\n"
   ]
  },
  {
   "cell_type": "code",
   "execution_count": 3,
   "metadata": {},
   "outputs": [],
   "source": [
    "s1 = 'GACGAGTCGGCGGCGGCCGCGGCCGCCGCCTGCTTCGAGCAGGCCGCACAAATGTGGGCCGACGAGCGCGATGCGATCGATGCGCTGCTGCGCGCCGCGCAGCCGGCGCTCAACCAGCGCTCGCACAAGCCCGAGGCGATCGCCGATGCGT'\n",
    "s2 = 'GCGTGAACCCGAGCTATTCGCCGCCGCAGGTGATCCGCGGGCTTGCCGCCCGCTTGCCCGACGAGCGCCGCTGGGCCGCGCTGATGACGAGCACCGGCCGCGTGCTGCTCGACACCGCACCGAAGGGCTTCGCGCCGGACTGGGCGCTGTA' \n",
    "seq_list = []\n",
    "sub_seq_bank = make_sub_seq_bank('ACTG', 4)\n",
    "\n",
    "for i in range(1000):\n",
    "    seq_list.append(s1)\n",
    "    seq_list.append(s2)\n",
    "    \n",
    "\n",
    "# def freq(seq):\n",
    "#     map_output= map(lambda x : seq.count(x), sub_seq_bank)\n",
    "#     sub_seq_count = list(map_output)\n",
    "#     return sub_seq_count\n",
    "\n",
    "# def freq1(seq, lable):\n",
    "#     sub_seq_count = []\n",
    "#     for sub_seq in sub_seq_bank:\n",
    "#         sub_seq_count.append(seq.count(sub_seq))\n",
    "#     sub_seq_count.append(lable)\n",
    "#     return sub_seq_count\n",
    "\n",
    "\n",
    "def make_f(seq_list):\n",
    "    data_list = []\n",
    "    for i, seq in enumerate(seq_list):\n",
    "        sub_seq_count = list(map(seq.count, sub_seq_bank))\n",
    "        sub_seq_count.append(\"A\"*(i+1))\n",
    "        data_list.append(sub_seq_count)\n",
    "    return data_list\n",
    "    "
   ]
  },
  {
   "cell_type": "code",
   "execution_count": 5,
   "metadata": {},
   "outputs": [
    {
     "name": "stdout",
     "output_type": "stream",
     "text": [
      "Wall time: 508 ms\n"
     ]
    }
   ],
   "source": [
    "%time d = make_f(seq_list)"
   ]
  },
  {
   "cell_type": "code",
   "execution_count": 5,
   "metadata": {},
   "outputs": [],
   "source": [
    "# %time results = Parallel(n_jobs=1,  backend=\"threading\")(map(delayed(freq1), seq_list, 20000*[\"A\"]))"
   ]
  },
  {
   "cell_type": "code",
   "execution_count": null,
   "metadata": {},
   "outputs": [],
   "source": [
    "from multiprocessing import Pool\n",
    "def f(x):\n",
    "    return x**2\n",
    "pool = Pool(4)\n",
    "for res in pool.map(f,range(20)):\n",
    "    print(res)"
   ]
  },
  {
   "cell_type": "code",
   "execution_count": 17,
   "metadata": {},
   "outputs": [],
   "source": [
    "from multiprocessing import Process, Queue\n",
    "import difflib, random, time\n",
    "\n",
    "def f2(wordlist, mainwordlist, q):\n",
    "    for mainword in mainwordlist:\n",
    "        matches = difflib.get_close_matches(mainword,wordlist,len(wordlist),0.7)\n",
    "        q.put(matches)"
   ]
  },
  {
   "cell_type": "code",
   "execution_count": null,
   "metadata": {},
   "outputs": [],
   "source": []
  },
  {
   "cell_type": "code",
   "execution_count": null,
   "metadata": {},
   "outputs": [],
   "source": []
  },
  {
   "cell_type": "code",
   "execution_count": null,
   "metadata": {},
   "outputs": [],
   "source": []
  },
  {
   "cell_type": "code",
   "execution_count": null,
   "metadata": {},
   "outputs": [],
   "source": []
  },
  {
   "cell_type": "code",
   "execution_count": null,
   "metadata": {},
   "outputs": [],
   "source": []
  },
  {
   "cell_type": "code",
   "execution_count": null,
   "metadata": {},
   "outputs": [],
   "source": []
  },
  {
   "cell_type": "code",
   "execution_count": null,
   "metadata": {},
   "outputs": [],
   "source": []
  },
  {
   "cell_type": "code",
   "execution_count": null,
   "metadata": {},
   "outputs": [],
   "source": []
  },
  {
   "cell_type": "code",
   "execution_count": null,
   "metadata": {},
   "outputs": [],
   "source": []
  }
 ],
 "metadata": {
  "kernelspec": {
   "display_name": "Python 3",
   "language": "python",
   "name": "python3"
  },
  "language_info": {
   "codemirror_mode": {
    "name": "ipython",
    "version": 3
   },
   "file_extension": ".py",
   "mimetype": "text/x-python",
   "name": "python",
   "nbconvert_exporter": "python",
   "pygments_lexer": "ipython3",
   "version": "3.6.5"
  }
 },
 "nbformat": 4,
 "nbformat_minor": 2
}
