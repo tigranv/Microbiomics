{
 "cells": [
  {
   "cell_type": "code",
   "execution_count": 1,
   "metadata": {},
   "outputs": [],
   "source": [
    "import Bio\n",
    "from Bio import SeqIO\n",
    "from Bio.Blast import NCBIWWW\n",
    "data_root = \"C:\\\\Users\\\\Tigran PC\\\\Desktop\\\\MicrobiomicsData\\\\data\\\\\" # notebook\n",
    "# data_root = \"/Users/tigran/Desktop/sbv/data/\" # imac\n",
    "# data_root = \"D:\\\\sbv Microbiomics\\\\data\\\\\" # istc pc"
   ]
  },
  {
   "cell_type": "code",
   "execution_count": 2,
   "metadata": {},
   "outputs": [],
   "source": [
    "counter = 0\n",
    "seqrecord1=0\n",
    "# seq_list = []\n",
    "for record in SeqIO.parse(data_root + \"sample01_S01_L001_R1_001.fastq\", format=\"fastq\"):\n",
    "    counter+=1    \n",
    "    seqrecord1 = record\n",
    "#     seq_list.append(record.seq[:151])\n",
    "#     print(record.letter_annotations[\"phred_quality\"])\n",
    "#     print(record.seq)\n",
    "#     print(type(record))\n",
    "    if counter >= 100:\n",
    "        break"
   ]
  },
  {
   "cell_type": "code",
   "execution_count": null,
   "metadata": {},
   "outputs": [],
   "source": []
  },
  {
   "cell_type": "code",
   "execution_count": 3,
   "metadata": {},
   "outputs": [],
   "source": [
    "\n",
    "\n",
    "# for record in SeqIO.parse(data_root + \"sample01_S01_L001_R1_001.fastq\", format=\"fastq\"):\n",
    "#     counter+=1\n",
    "#     if(seqrecord1.seq == record.seq):            \n",
    "#             print(record.id)\n",
    "#     if counter > 100:\n",
    "#         break"
   ]
  },
  {
   "cell_type": "code",
   "execution_count": 4,
   "metadata": {},
   "outputs": [],
   "source": [
    "#  identifiers = [seq_record.id for seq_record in SeqIO.parse(\"ls_orchid.gbk\", \"genbank\")]\n",
    "# from Bio import SeqIO\n",
    "# orchid_dict = SeqIO.index(data_root_nb + \"sample01_S01_L001_R1_001.fastq\", \"fastq\")\n",
    "# len(orchid_dict)\n"
   ]
  },
  {
   "cell_type": "code",
   "execution_count": 5,
   "metadata": {},
   "outputs": [],
   "source": [
    "# import glob\n",
    "# from Bio import SeqIO\n",
    "# files = glob.glob(data_root + \"sample01_S01_L001_R1_001.fastq\")\n",
    "# print(\"%i files to index\" % len(files))\n",
    "\n",
    "# gb_vrl = SeqIO.index_db(\"gbvrl.idx\", files, \"genbank\")\n",
    "# print(\"%i sequences indexed\" % len(gb_vrl))\n",
    "# gb_vrl.keys"
   ]
  },
  {
   "cell_type": "code",
   "execution_count": 21,
   "metadata": {},
   "outputs": [
    {
     "name": "stdout",
     "output_type": "stream",
     "text": [
      "21 records with total sequence length 0\n"
     ]
    },
    {
     "data": {
      "text/plain": [
       "['CTTGTATTATCAAAGCTAACTTTAAAAGGGGAAAATCAAGGATGAATTCAAAAGATTAATTTTATTAAACATTGTCTTGCTTATTATATTGGTGGGTGGGGGTTTTGCCGGTTATTCTTACTACAACCGCACGATCAATTACTTATCAACT',\n",
       " 'ATGGATAATTATCATGAGATTCATTCGGACATAAGAAATCCAAAATTTATTTTACAAAAGCAGATTGAACGGGAACTCATGTTGCGATACCCGGAACATTATGTTTCCATGCATGTTTTGGTTATGTTTACCAATACCCCGTATGCTAAAG',\n",
       " 'GGTTCCACCTTGTAATTCTTCTAATATTCCAGCCTTAATGCCACTCACCGATACGTATGCTTTTCTCATGAATTATTATCCGTTGTTTGAGGAAAAGGCGTTTCAAATTTTATTTGGATATTTAAAACATCGAGCACTTTTAGCAATGTAT',\n",
       " 'TGAGCTGTTACGCACTCTTTAAATGAATGGCTGCTTCCAAGCCAACATCCTGGCTGTCTATGCAGTTCCACCGCGGTTTGTCAACTTAGCATATATTTTGGGACCTTAGCTGATAGTCCGGGTTCTTTCCCTCTCGGACATGGCCCTTAGC',\n",
       " 'CTATAGTCCTGTAGTTGTTGATAAAATCAACACAAACAGAGAGATAAATGATAAAAATTAAATGTATTGGGAGGTAATTTTAATTATAGTTTGGAAAAATGGAAATCGACAAAATTTTATTAATTTTTGGAAATAATGTATTTTTTTTGCA',\n",
       " 'GCACCGGATGCTCAAGACGATCGAGCGGGTCACCGGGCAGCGGATCATGATCGACAAGATCCCGACGGTGGCGGACCTGCGCACCCGGCGGCTGGAGCTGACCCAGGCGGCGCTGCGGGAGAGCCTGCTGGAGGACGAGCTGGAGTCGTTC',\n",
       " 'TGAGCTTCATAGGTCCAAGACCTTTACTTATAGAATATTTACCTTTATACAACCAAGAACAAAAAAAACGCCACGATGTAAGACCGGGTATTACAGGTTGGGCACAGATTAATGGACGAAATGCTATTTCTTGGGGACAAAAATTTAAATA',\n",
       " 'GGTTTTTCCATTTTTTACCCTCCAAATTCCCATTGTTCTAATTGATATGACATATTAAAGAAACGGCGTTCATGAGTCGTACTTTGTAGAAAGTTTTGTCGTAAAGTTTTTTGAACTTGAGTAGAACTCGTTTCTGCATATTCATCTAACC',\n",
       " 'CGGGGGCAGCGGCGTCTTGCCATCGGCGGGCTGGGCCGCGATCAGTGAGGCCACGATCATCCCGTGAGCATCACAGTCGGACAAGCCATCGCCGGGCATCACATAGTCGCCGCCACCGACAAGGTCGGTCAGCCGCGGATGCGGGGTGAAG',\n",
       " 'AGGATTAGGAGGTGTGATCTTGTTGGAGGAAGAGTGTCATTGGGGATGGATTCTGAGATTTCAAAAGCCCAGGCCAAGCCCAGTCTCTGTCTGTCTGTCTGTCTGTCTGTCTGTCTGTCTGTCTGTCTCTGCAGACAGCTCGTAATGTAGA',\n",
       " 'GATTTTCTGTAGGAATAGCAGACAAAGAAAAGATTGTTTCTGGAAACAATGTTAAATCAGGAGATGTATTGGTTGGTATATCTTCAAGTGGAGTACACAGCAATGGATTTTCTTTTATAAGAAAGATATTTTTAGAAACTTACAATTATAA',\n",
       " 'GCGCGATGCCATGACCGGCAGGTCCCGCACCGTTCTCACCGGCCACGCCTATACCGTGATGGCGGTGGCGTTCAGCCCTGACGGGGCCCTCCTTGCCACCGCAGGGTGGGACGGCACCGCGCACCTCCTGGATGCCAAATCCGGCAGACTC',\n",
       " 'TTCCCAGATACCTTCGGGTTGATATGGTTTAACACTTGGCCCACCTATTTCCTTGTTCAGAAGTCCACTTATTTGCAGCGCCTGATCGCGAATGGTCTCTGCAGACAACCTCAATCGTGAGGCACGGGCCAGATATCTATTTTCTGGATCT',\n",
       " 'CGCCGCCAGGAACCCGGTCCGTACGAAGTCGTCCCCGGCCACCGCGTTCAGCAGCCAGTTCGTCATCACCCGGGTCTTGGCCACATTGGTCCGCAGCGCCGCCCAGTGGTAGGCGCGGGCCACGGCCTGCGCGGGCGCCCCGTGCAGCTCG',\n",
       " 'CGAAATACAAATCACCAAGACGGTTGTTTGCAAGGTCAACGCGGTTTCCTTTACTTAAGTTCAAGCCTGCGAAAACGCCGGCCATTGGCTTGAACTCCATATAGGTCCACTGTGAGTTCTCGGTAAATAGATCGGTATTGCCGTCAATCGC',\n",
       " 'GCGGCGGGGATGGATCGACACTATCCAGCAAGGCCGGATCGAAGCCGTGCTGGTGGACATGGCCAATGCGCAGGGCGGCATGGAGCGGATCAAGAATACTCCGCTACCTGCCCAATATCGTGCCTTCCCGCAATTCTTCACCCGGCTTTTC',\n",
       " 'ACATAAAAACCTTGGAACATCCATCCATGATAAGTCCTAATGATGTCGTCATGATAGATGAAGATCGTTTTTACTTTACCAACGACCATAAGTACACACAAGGTCTAGGTTTATTGGCAGAAAATTATCTTGGTTTAGGAATATCGAATGT',\n",
       " 'AAGATCAACAGATTGAATCGTAGGCATTAATATTTCTAAAGCACCAGCTCGTTCTTGTTCTTCACGAATAATTGTACAAACTTTATCAAGTACCTTTTTACCTAATGGCAACCAAGAATAAATCCCTGCTGTTTGTTGACGAATCATACCT',\n",
       " 'TCCTTGCAGTCGCCCGCGCGAGTGAATCCGCTCATGCCTACCGTCATGCCGTCGCGGATCAGCGCGGCGGCTTCGTCGGCCGAGACTACCTTGTCATGCAGCCTGGCCAGGCGAATGCGTTCCTTGTCCATCTTGATCTCCGGTCTGACGG',\n",
       " 'ACCGGCTCCAGTCCGAGCTCACCGGCGAGCGTGGTGACGGCCTGCTGTGCCGCGGCCACGTCGAGCGTCATGTGGCCGCCGGCGAACCAGTCCGGGTCGACGCGTCCGAGCACCGCGTTGGCATCGGTCACGGTGGCCTGGGTACCGCCGC',\n",
       " 'CGATTAAATTCATCCCTTAACCACATCCCTGTCCATACATCGCAGTCTCCATTTCCTAAAACAAAAGGTGCTCCAGATATAATACCAAGAATATAATCATTCTTAGAATTAGCAATAACAATTTTATCTCCATAAAGAGTTACAAACTTTC']"
      ]
     },
     "execution_count": 21,
     "metadata": {},
     "output_type": "execute_result"
    }
   ],
   "source": [
    "from Bio.SeqIO.QualityIO import FastqGeneralIterator\n",
    "count = 0\n",
    "counter11=0\n",
    "total_len = 0\n",
    "seq_list =[]\n",
    "with open(data_root + \"sample01_S01_L001_R1_001.fastq\") as in_handle:\n",
    "     for name, seq, qual in FastqGeneralIterator(in_handle):\n",
    "        seq_list.append(seq)\n",
    "#         print(seq)\n",
    "#         if seq not in  cleand:\n",
    "#             cleand.append(name)           \n",
    "        count += 1\n",
    "        if count > 20:\n",
    "            break\n",
    "\n",
    "print(\"%i records with total sequence length %i\" % (count, total_len))\n",
    "seq_list"
   ]
  },
  {
   "cell_type": "code",
   "execution_count": 22,
   "metadata": {},
   "outputs": [],
   "source": [
    "# from Bio.Blast import NCBIWWW\n",
    "# result_handle = NCBIWWW.qblast(\"blastn\", \"nt\", seqrecord1.seq)\n",
    "\n",
    "# with open(data_root + \"blast/\"+ seqrecord1.id[-9:] + \".xml\", \"w\") as out_handle:\n",
    "#     out_handle.write(result_handle.read())\n",
    "\n",
    "# result_handle.close()\n"
   ]
  },
  {
   "cell_type": "code",
   "execution_count": 23,
   "metadata": {},
   "outputs": [],
   "source": [
    "# result_handle = open(data_root + \"blast/\"+ seqrecord1.id[-9:] + \".xml\")\n",
    "# from Bio.Blast import NCBIXML\n",
    "# blast_record = NCBIXML.read(result_handle)\n",
    "# # blast_records = NCBIXML.parse(result_handle)\n"
   ]
  },
  {
   "cell_type": "code",
   "execution_count": 24,
   "metadata": {},
   "outputs": [],
   "source": [
    "# E_VALUE_THRESH = 0.04\n",
    "# for alignment in blast_record.alignments:\n",
    "#     for hsp in alignment.hsps:\n",
    "#         if hsp.expect < E_VALUE_THRESH:\n",
    "#             print(\"****Alignment****\")\n",
    "#             print(\"sequence:\", alignment.title)\n",
    "#             print(\"length:\", alignment.length)\n",
    "#             print(\"e value:\", hsp.expect)\n",
    "#             print(hsp.query[0:75] + \"...\")\n",
    "#             print(hsp.match[0:75] + \"...\")\n",
    "#             print(hsp.sbjct[0:75] + \"...\")\n"
   ]
  },
  {
   "cell_type": "code",
   "execution_count": 25,
   "metadata": {},
   "outputs": [],
   "source": [
    "# from Bio import SearchIO\n",
    "# last_qresult = SearchIO.read(data_root + \"blast/\"+ seqrecord1.id[-9:] + \".xml\", \"blast-xml\")\n",
    "# print(last_qresult)"
   ]
  },
  {
   "cell_type": "code",
   "execution_count": 26,
   "metadata": {},
   "outputs": [],
   "source": [
    "# print(last_qresult[0])"
   ]
  },
  {
   "cell_type": "code",
   "execution_count": 27,
   "metadata": {},
   "outputs": [],
   "source": [
    "# from Bio import Entrez\n",
    "# Entrez.email = \"Tigran_vardanyan@yahoo.com\"     # Always tell NCBI who you are\n",
    "# handle = Entrez.einfo()\n",
    "# result = handle.read()\n",
    "# handle.close()"
   ]
  },
  {
   "cell_type": "code",
   "execution_count": 28,
   "metadata": {},
   "outputs": [],
   "source": [
    "# print(result)"
   ]
  },
  {
   "cell_type": "code",
   "execution_count": 29,
   "metadata": {},
   "outputs": [],
   "source": [
    "# def batch_iterator(iterator, batch_size):\n",
    "#     \"\"\"Returns lists of length batch_size.\n",
    "\n",
    "#     This can be used on any iterator, for example to batch up\n",
    "#     SeqRecord objects from Bio.SeqIO.parse(...), or to batch\n",
    "#     Alignment objects from Bio.AlignIO.parse(...), or simply\n",
    "#     lines from a file handle.\n",
    "\n",
    "#     This is a generator function, and it returns lists of the\n",
    "#     entries from the supplied iterator.  Each list will have\n",
    "#     batch_size entries, although the final list may be shorter.\n",
    "#     \"\"\"\n",
    "#     entry = True  # Make sure we loop once\n",
    "#     while entry:\n",
    "#         batch = []\n",
    "#         while len(batch) < batch_size:\n",
    "#             try:\n",
    "#                 entry = next(iterator)\n",
    "#             except StopIteration:\n",
    "#                 entry = None\n",
    "#             if entry is None:\n",
    "#                 # End of file\n",
    "#                 break\n",
    "#             batch.append(entry)\n",
    "#         if batch:\n",
    "#             yield batch"
   ]
  },
  {
   "cell_type": "code",
   "execution_count": 30,
   "metadata": {},
   "outputs": [],
   "source": [
    "# from Bio import SeqIO\n",
    "\n",
    "# record_iter = SeqIO.parse(open(data_root + \"sample01_S01_L001_R1_001.fastq\"),\"fastq\")\n",
    "# for i, batch in enumerate(batch_iterator(record_iter, 1000000)):\n",
    "#     filename = data_root + \"sample01split/\"+ \"sample01_group_%i.fastq\" % (i + 1)\n",
    "#     with open(filename, \"w\") as handle:\n",
    "#         count = SeqIO.write(batch, handle, \"fastq\")\n",
    "#     print(\"Wrote %i records to %s\" % (count, filename))"
   ]
  },
  {
   "cell_type": "code",
   "execution_count": 31,
   "metadata": {},
   "outputs": [],
   "source": [
    "import numpy as np\n",
    "\n",
    "import codecs\n",
    "\n",
    "def lev_dist(source, target):\n",
    "    if source == target:\n",
    "        return 0\n",
    "\n",
    "\n",
    "    # Prepare a matrix\n",
    "    slen, tlen = len(source), len(target)\n",
    "    dist = [[0 for i in range(tlen+1)] for x in range(slen+1)]\n",
    "    for i in range(slen+1):\n",
    "        dist[i][0] = i\n",
    "    for j in range(tlen+1):\n",
    "        dist[0][j] = j\n",
    "\n",
    "    # Counting distance, here is my function\n",
    "    for i in range(slen):\n",
    "        for j in range(tlen):\n",
    "            cost = 0 if source[i] == target[j] else 1\n",
    "            dist[i+1][j+1] = min(\n",
    "                            dist[i][j+1] + 1,   # deletion\n",
    "                            dist[i+1][j] + 1,   # insertion\n",
    "                            dist[i][j] + cost   # substitution\n",
    "                        )\n",
    "    return dist[-1][-1]\n",
    "\n",
    "# def lev_dist(seq1, seq2):  \n",
    "#     size_x = len(seq1) + 1\n",
    "#     size_y = len(seq2) + 1\n",
    "#     matrix = np.zeros ((size_x, size_y))\n",
    "#     for x in range(size_x):\n",
    "#         matrix [x, 0] = x\n",
    "#     for y in range(size_y):\n",
    "#         matrix [0, y] = y\n",
    "\n",
    "#     for x in range(1, size_x):\n",
    "#         for y in range(1, size_y):\n",
    "#             if seq1[x-1] == seq2[y-1]:\n",
    "#                 matrix [x,y] = min(\n",
    "#                     matrix[x-1, y] + 1,\n",
    "#                     matrix[x-1, y-1],\n",
    "#                     matrix[x, y-1] + 1\n",
    "#                 )\n",
    "#             else:\n",
    "#                 matrix [x,y] = min(\n",
    "#                     matrix[x-1,y] + 1,\n",
    "#                     matrix[x-1,y-1] + 1,\n",
    "#                     matrix[x,y-1] + 1\n",
    "#                 )\n",
    "#     print (matrix)\n",
    "#     return (matrix[size_x - 1, size_y - 1])"
   ]
  },
  {
   "cell_type": "code",
   "execution_count": 34,
   "metadata": {},
   "outputs": [
    {
     "name": "stdout",
     "output_type": "stream",
     "text": [
      " - *Cluster 0:* CTATAGTCCTGTAGTTGTTGATAAAATCAACACAAACAGAGAGATAAATGATAAAAATTAAATGTATTGGGAGGTAATTTTAATTATAGTTTGGAAAAATGGAAATCGACAAAATTTTATTAATTTTTGGAAATAATGTATTTTTTTTGCA, CTTGTATTATCAAAGCTAACTTTAAAAGGGGAAAATCAAGGATGAATTCAAAAGATTAATTTTATTAAACATTGTCTTGCTTATTATATTGGTGGGTGGGGGTTTTGCCGGTTATTCTTACTACAACCGCACGATCAATTACTTATCAACT, GATTTTCTGTAGGAATAGCAGACAAAGAAAAGATTGTTTCTGGAAACAATGTTAAATCAGGAGATGTATTGGTTGGTATATCTTCAAGTGGAGTACACAGCAATGGATTTTCTTTTATAAGAAAGATATTTTTAGAAACTTACAATTATAA, GGTTCCACCTTGTAATTCTTCTAATATTCCAGCCTTAATGCCACTCACCGATACGTATGCTTTTCTCATGAATTATTATCCGTTGTTTGAGGAAAAGGCGTTTCAAATTTTATTTGGATATTTAAAACATCGAGCACTTTTAGCAATGTAT, GGTTTTTCCATTTTTTACCCTCCAAATTCCCATTGTTCTAATTGATATGACATATTAAAGAAACGGCGTTCATGAGTCGTACTTTGTAGAAAGTTTTGTCGTAAAGTTTTTTGAACTTGAGTAGAACTCGTTTCTGCATATTCATCTAACC, TGAGCTTCATAGGTCCAAGACCTTTACTTATAGAATATTTACCTTTATACAACCAAGAACAAAAAAAACGCCACGATGTAAGACCGGGTATTACAGGTTGGGCACAGATTAATGGACGAAATGCTATTTCTTGGGGACAAAAATTTAAATA\n",
      " - *Cluster 1:* ACCGGCTCCAGTCCGAGCTCACCGGCGAGCGTGGTGACGGCCTGCTGTGCCGCGGCCACGTCGAGCGTCATGTGGCCGCCGGCGAACCAGTCCGGGTCGACGCGTCCGAGCACCGCGTTGGCATCGGTCACGGTGGCCTGGGTACCGCCGC, CGCCGCCAGGAACCCGGTCCGTACGAAGTCGTCCCCGGCCACCGCGTTCAGCAGCCAGTTCGTCATCACCCGGGTCTTGGCCACATTGGTCCGCAGCGCCGCCCAGTGGTAGGCGCGGGCCACGGCCTGCGCGGGCGCCCCGTGCAGCTCG, GCACCGGATGCTCAAGACGATCGAGCGGGTCACCGGGCAGCGGATCATGATCGACAAGATCCCGACGGTGGCGGACCTGCGCACCCGGCGGCTGGAGCTGACCCAGGCGGCGCTGCGGGAGAGCCTGCTGGAGGACGAGCTGGAGTCGTTC, GCGCGATGCCATGACCGGCAGGTCCCGCACCGTTCTCACCGGCCACGCCTATACCGTGATGGCGGTGGCGTTCAGCCCTGACGGGGCCCTCCTTGCCACCGCAGGGTGGGACGGCACCGCGCACCTCCTGGATGCCAAATCCGGCAGACTC, TCCTTGCAGTCGCCCGCGCGAGTGAATCCGCTCATGCCTACCGTCATGCCGTCGCGGATCAGCGCGGCGGCTTCGTCGGCCGAGACTACCTTGTCATGCAGCCTGGCCAGGCGAATGCGTTCCTTGTCCATCTTGATCTCCGGTCTGACGG\n",
      " - *Cluster 2:* AGGATTAGGAGGTGTGATCTTGTTGGAGGAAGAGTGTCATTGGGGATGGATTCTGAGATTTCAAAAGCCCAGGCCAAGCCCAGTCTCTGTCTGTCTGTCTGTCTGTCTGTCTGTCTGTCTGTCTGTCTCTGCAGACAGCTCGTAATGTAGA, CGAAATACAAATCACCAAGACGGTTGTTTGCAAGGTCAACGCGGTTTCCTTTACTTAAGTTCAAGCCTGCGAAAACGCCGGCCATTGGCTTGAACTCCATATAGGTCCACTGTGAGTTCTCGGTAAATAGATCGGTATTGCCGTCAATCGC, TTCCCAGATACCTTCGGGTTGATATGGTTTAACACTTGGCCCACCTATTTCCTTGTTCAGAAGTCCACTTATTTGCAGCGCCTGATCGCGAATGGTCTCTGCAGACAACCTCAATCGTGAGGCACGGGCCAGATATCTATTTTCTGGATCT\n",
      " - *Cluster 3:* CGGGGGCAGCGGCGTCTTGCCATCGGCGGGCTGGGCCGCGATCAGTGAGGCCACGATCATCCCGTGAGCATCACAGTCGGACAAGCCATCGCCGGGCATCACATAGTCGCCGCCACCGACAAGGTCGGTCAGCCGCGGATGCGGGGTGAAG, GCGGCGGGGATGGATCGACACTATCCAGCAAGGCCGGATCGAAGCCGTGCTGGTGGACATGGCCAATGCGCAGGGCGGCATGGAGCGGATCAAGAATACTCCGCTACCTGCCCAATATCGTGCCTTCCCGCAATTCTTCACCCGGCTTTTC, TGAGCTGTTACGCACTCTTTAAATGAATGGCTGCTTCCAAGCCAACATCCTGGCTGTCTATGCAGTTCCACCGCGGTTTGTCAACTTAGCATATATTTTGGGACCTTAGCTGATAGTCCGGGTTCTTTCCCTCTCGGACATGGCCCTTAGC\n",
      " - *Cluster 4:* AAGATCAACAGATTGAATCGTAGGCATTAATATTTCTAAAGCACCAGCTCGTTCTTGTTCTTCACGAATAATTGTACAAACTTTATCAAGTACCTTTTTACCTAATGGCAACCAAGAATAAATCCCTGCTGTTTGTTGACGAATCATACCT, ACATAAAAACCTTGGAACATCCATCCATGATAAGTCCTAATGATGTCGTCATGATAGATGAAGATCGTTTTTACTTTACCAACGACCATAAGTACACACAAGGTCTAGGTTTATTGGCAGAAAATTATCTTGGTTTAGGAATATCGAATGT, ATGGATAATTATCATGAGATTCATTCGGACATAAGAAATCCAAAATTTATTTTACAAAAGCAGATTGAACGGGAACTCATGTTGCGATACCCGGAACATTATGTTTCCATGCATGTTTTGGTTATGTTTACCAATACCCCGTATGCTAAAG, CGATTAAATTCATCCCTTAACCACATCCCTGTCCATACATCGCAGTCTCCATTTCCTAAAACAAAAGGTGCTCCAGATATAATACCAAGAATATAATCATTCTTAGAATTAGCAATAACAATTTTATCTCCATAAAGAGTTACAAACTTTC\n",
      "[0 1 2 3 4]\n"
     ]
    }
   ],
   "source": [
    "import numpy as np\n",
    "import sklearn.cluster\n",
    "# from scipy.spatial.distance import cdist as distance\n",
    "# import distance\n",
    "\n",
    "words = seq_list #Replace this line\n",
    "words = np.asarray(words) #So that indexing with a list will work\n",
    "lev_similarity = -1*np.array([[lev_dist(w1,w2) for w1 in words] for w2 in words])\n",
    "\n",
    "affprop = sklearn.cluster.AffinityPropagation(affinity=\"precomputed\", damping=0.5)\n",
    "affprop.fit(lev_similarity)\n",
    "for cluster_id in np.unique(affprop.labels_):\n",
    "    exemplar = words[affprop.cluster_centers_indices_[cluster_id]]\n",
    "    cluster = np.unique(words[np.nonzero(affprop.labels_==cluster_id)])\n",
    "    cluster_str = \", \".join(cluster)\n",
    "    print(\" - *Cluster %s:* %s\" % (cluster_id, cluster_str))\n",
    "    \n",
    "print(np.unique(affprop.labels_))"
   ]
  },
  {
   "cell_type": "code",
   "execution_count": 57,
   "metadata": {},
   "outputs": [
    {
     "name": "stderr",
     "output_type": "stream",
     "text": [
      "C:\\Users\\Tigran PC\\Anaconda3\\lib\\site-packages\\ipykernel_launcher.py:1: DeprecationWarning: The binary mode of fromstring is deprecated, as it behaves surprisingly on unicode inputs. Use frombuffer instead\n",
      "  \"\"\"Entry point for launching an IPython kernel.\n"
     ]
    },
    {
     "ename": "AttributeError",
     "evalue": "module 'Bio' has no attribute 'numerize'",
     "output_type": "error",
     "traceback": [
      "\u001b[1;31m---------------------------------------------------------------------------\u001b[0m",
      "\u001b[1;31mAttributeError\u001b[0m                            Traceback (most recent call last)",
      "\u001b[1;32m<ipython-input-57-6a64675662a3>\u001b[0m in \u001b[0;36m<module>\u001b[1;34m()\u001b[0m\n\u001b[0;32m      2\u001b[0m \u001b[1;32mimport\u001b[0m \u001b[0mnumpy\u001b[0m \u001b[1;32mas\u001b[0m \u001b[0mnp\u001b[0m\u001b[1;33m\u001b[0m\u001b[0m\n\u001b[0;32m      3\u001b[0m \u001b[1;32mimport\u001b[0m \u001b[0mBio\u001b[0m\u001b[1;33m\u001b[0m\u001b[0m\n\u001b[1;32m----> 4\u001b[1;33m \u001b[0mseq_array\u001b[0m \u001b[1;33m=\u001b[0m \u001b[0mBio\u001b[0m\u001b[1;33m.\u001b[0m\u001b[0mnumerize\u001b[0m\u001b[1;33m(\u001b[0m\u001b[0mseq_list\u001b[0m\u001b[1;33m)\u001b[0m\u001b[1;33m\u001b[0m\u001b[0m\n\u001b[0m\u001b[0;32m      5\u001b[0m \u001b[0mprint\u001b[0m\u001b[1;33m(\u001b[0m\u001b[0mseq_array\u001b[0m\u001b[1;33m)\u001b[0m\u001b[1;33m\u001b[0m\u001b[0m\n",
      "\u001b[1;31mAttributeError\u001b[0m: module 'Bio' has no attribute 'numerize'"
     ]
    }
   ],
   "source": [
    "data = np.asarray([np.fromstring(s, dtype=np.uint8) for s in seq_list])\n",
    "import numpy as np\n",
    "import Bio\n",
    "seq_array = Bio.numerize(seq_list)\n",
    "print(seq_array)"
   ]
  },
  {
   "cell_type": "code",
   "execution_count": 47,
   "metadata": {},
   "outputs": [
    {
     "name": "stdout",
     "output_type": "stream",
     "text": [
      "[0 0 0 1 1 1 0 1 1 0 1 1 1 0 0 0 0 0 1 1 1] 1\n"
     ]
    }
   ],
   "source": [
    "from Bio.Cluster import kcluster\n",
    "import numpy as np\n",
    "clusterid, error, nfound = kcluster(data)\n",
    "print(clusterid,  nfound)\n"
   ]
  },
  {
   "cell_type": "code",
   "execution_count": 53,
   "metadata": {},
   "outputs": [],
   "source": [
    "from Bio.Cluster import distancematrix\n",
    "matrix = distancematrix(data, dist=\"e\")\n"
   ]
  },
  {
   "cell_type": "code",
   "execution_count": 55,
   "metadata": {},
   "outputs": [],
   "source": [
    "from Bio.Cluster import clustercentroids\n",
    "cdata, cmask = clustercentroids(data)\n"
   ]
  },
  {
   "cell_type": "code",
   "execution_count": null,
   "metadata": {},
   "outputs": [],
   "source": []
  }
 ],
 "metadata": {
  "kernelspec": {
   "display_name": "Python 3",
   "language": "python",
   "name": "python3"
  },
  "language_info": {
   "codemirror_mode": {
    "name": "ipython",
    "version": 3
   },
   "file_extension": ".py",
   "mimetype": "text/x-python",
   "name": "python",
   "nbconvert_exporter": "python",
   "pygments_lexer": "ipython3",
   "version": "3.6.4"
  }
 },
 "nbformat": 4,
 "nbformat_minor": 2
}
