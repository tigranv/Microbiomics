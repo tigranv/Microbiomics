{
 "cells": [
  {
   "cell_type": "code",
   "execution_count": 12,
   "metadata": {},
   "outputs": [],
   "source": [
    "import Bio\n",
    "from Bio import SeqIO\n",
    "from Bio.Blast import NCBIWWW\n",
    "data_root_nb = \"C:\\\\Users\\\\Tigran PC\\\\Desktop\\\\MicrobiomicsData\\\\data\\\\\"\n",
    "data_root_imac = \"C:\\\\Users\\\\Tigran PC\\\\Desktop\\\\MicrobiomicsData\\\\data\\\\\"\n",
    "data_root_istc_pc = \"D:\\\\\""
   ]
  },
  {
   "cell_type": "code",
   "execution_count": 15,
   "metadata": {},
   "outputs": [
    {
     "name": "stdout",
     "output_type": "stream",
     "text": [
      "X00001:01:XXXXXXXXX:0:0000:0000:000000001\n",
      "X00001:01:XXXXXXXXX:0:0000:0000:000000002\n",
      "X00001:01:XXXXXXXXX:0:0000:0000:000000003\n",
      "X00001:01:XXXXXXXXX:0:0000:0000:000000004\n",
      "X00001:01:XXXXXXXXX:0:0000:0000:000000005\n",
      "X00001:01:XXXXXXXXX:0:0000:0000:000000006\n",
      "X00001:01:XXXXXXXXX:0:0000:0000:000000007\n",
      "X00001:01:XXXXXXXXX:0:0000:0000:000000008\n",
      "X00001:01:XXXXXXXXX:0:0000:0000:000000009\n",
      "X00001:01:XXXXXXXXX:0:0000:0000:000000010\n",
      "X00001:01:XXXXXXXXX:0:0000:0000:000000011\n"
     ]
    }
   ],
   "source": [
    "counter = 0\n",
    "seqrecord1=0\n",
    "for record in SeqIO.parse(data_root_nb + \"sample01_S01_L001_R1_001.fastq\", format=\"fastq\"):\n",
    "    counter+=1    \n",
    "    seqrecord1 = record\n",
    "    print(record.id)\n",
    "#         print(record.seq)\n",
    "#         print(type(record))\n",
    "    if counter > 10:\n",
    "        break"
   ]
  },
  {
   "cell_type": "code",
   "execution_count": 16,
   "metadata": {},
   "outputs": [
    {
     "name": "stdout",
     "output_type": "stream",
     "text": [
      "X00001:01:XXXXXXXXX:0:0000:0000:000000011\n"
     ]
    }
   ],
   "source": [
    "for record in SeqIO.parse(data_root_nb + \"sample01_S01_L001_R1_001.fastq\", format=\"fastq\"):\n",
    "    counter+=1\n",
    "    if(seqrecord1.seq == record.seq):            \n",
    "            print(record.id)\n",
    "    if counter > 100:\n",
    "        break"
   ]
  },
  {
   "cell_type": "code",
   "execution_count": 17,
   "metadata": {},
   "outputs": [],
   "source": [
    "#  identifiers = [seq_record.id for seq_record in SeqIO.parse(\"ls_orchid.gbk\", \"genbank\")]\n",
    "# from Bio import SeqIO\n",
    "# orchid_dict = SeqIO.index(data_root_nb + \"sample01_S01_L001_R1_001.fastq\", \"fastq\")\n",
    "# len(orchid_dict)\n"
   ]
  },
  {
   "cell_type": "code",
   "execution_count": 18,
   "metadata": {},
   "outputs": [],
   "source": [
    "# import glob\n",
    "# from Bio import SeqIO\n",
    "# files = glob.glob(data_root_nb + \"sample01_S01_L001_R1_001.fastq\")\n",
    "# print(\"%i files to index\" % len(files))\n",
    "\n",
    "# gb_vrl = SeqIO.index_db(\"gbvrl.idx\", files, \"genbank\")\n",
    "# print(\"%i sequences indexed\" % len(gb_vrl))\n",
    "# gb_vrl.keys"
   ]
  },
  {
   "cell_type": "code",
   "execution_count": 29,
   "metadata": {},
   "outputs": [
    {
     "name": "stdout",
     "output_type": "stream",
     "text": [
      "10819530 records with total sequence length 1633749030\n"
     ]
    }
   ],
   "source": [
    "from Bio.SeqIO.QualityIO import FastqGeneralIterator\n",
    "count = 0\n",
    "total_len = 0\n",
    "with open(data_root_nb + \"sample01_S01_L001_R1_001.fastq\") as in_handle:\n",
    "     for title, seq, qual in FastqGeneralIterator(in_handle):\n",
    "        count += 1\n",
    "        total_len += len(seq)\n",
    "        if count > 1000:\n",
    "            break\n",
    "\n",
    "print(\"%i records with total sequence length %i\" % (count, total_len))\n"
   ]
  },
  {
   "cell_type": "code",
   "execution_count": null,
   "metadata": {},
   "outputs": [],
   "source": []
  }
 ],
 "metadata": {
  "kernelspec": {
   "display_name": "Python 3",
   "language": "python",
   "name": "python3"
  },
  "language_info": {
   "codemirror_mode": {
    "name": "ipython",
    "version": 3
   },
   "file_extension": ".py",
   "mimetype": "text/x-python",
   "name": "python",
   "nbconvert_exporter": "python",
   "pygments_lexer": "ipython3",
   "version": "3.6.4"
  }
 },
 "nbformat": 4,
 "nbformat_minor": 2
}
